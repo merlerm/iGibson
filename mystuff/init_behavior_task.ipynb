{
 "cells": [
  {
   "cell_type": "code",
   "execution_count": 1,
   "id": "79a5c104-637d-4b57-b427-1e7cdbc6856b",
   "metadata": {},
   "outputs": [
    {
     "name": "stdout",
     "output_type": "stream",
     "text": [
      "\n",
      " _   _____  _  _\n",
      "(_) / ____|(_)| |\n",
      " _ | |  __  _ | |__   ___   ___   _ __\n",
      "| || | |_ || || '_ \\ / __| / _ \\ | '_ \\\n",
      "| || |__| || || |_) |\\__ \\| (_) || | | |\n",
      "|_| \\_____||_||_.__/ |___/ \\___/ |_| |_|\n",
      "\n"
     ]
    },
    {
     "name": "stderr",
     "output_type": "stream",
     "text": [
      "/miniconda/envs/igibson/lib/python3.8/site-packages/tqdm/auto.py:22: TqdmWarning: IProgress not found. Please update jupyter and ipywidgets. See https://ipywidgets.readthedocs.io/en/stable/user_install.html\n",
      "  from .autonotebook import tqdm as notebook_tqdm\n"
     ]
    }
   ],
   "source": [
    "# Extract from https://github.com/StanfordVL/behavior/blob/main/behavior/benchmark/behavior_benchmark.py\n",
    "import os\n",
    "import bddl\n",
    "import json\n",
    "import behavior\n",
    "import pyquaternion  \n",
    "import numpy as np\n",
    "from PIL import Image\n",
    "from igibson.utils.utils import parse_config\n",
    "from igibson.envs.igibson_env import iGibsonEnv\n",
    "\n",
    "from igibson.custom_utils import get_env_config, render_robot_pov, generate_scenes, generate_scene"
   ]
  },
  {
   "cell_type": "code",
   "execution_count": 2,
   "id": "eba940bd-7405-41b4-b2be-13f0adb34257",
   "metadata": {},
   "outputs": [],
   "source": [
    "activities = sorted(\n",
    "        [\n",
    "            item\n",
    "            for item in os.listdir(os.path.join(os.path.dirname(bddl.__file__), \"activity_definitions\"))\n",
    "            if item != \"domain_igibson.bddl\"\n",
    "        ]\n",
    "    )"
   ]
  },
  {
   "cell_type": "code",
   "execution_count": 3,
   "id": "580a66eb-68c7-42e4-8a9e-61d08a72c047",
   "metadata": {},
   "outputs": [],
   "source": [
    "assert len(activities)==100, f\"Only {len(activities)} activities found.\""
   ]
  },
  {
   "cell_type": "code",
   "execution_count": 4,
   "id": "3582b0f3-cc89-4203-a4b1-35eb94c8aab5",
   "metadata": {},
   "outputs": [
    {
     "name": "stdout",
     "output_type": "stream",
     "text": [
      "143\n"
     ]
    }
   ],
   "source": [
    "scene_json = os.path.join(\n",
    "            os.path.dirname(bddl.__file__),\n",
    "            \"activity_to_preselected_scenes.json\",\n",
    "        )\n",
    "\n",
    "with open(scene_json) as f:\n",
    "    activity_to_scenes = json.load(f)\n",
    "\n",
    "print(len(activity_to_scenes))"
   ]
  },
  {
   "cell_type": "markdown",
   "id": "012d8c71-83dc-4aa1-8d73-238e7cacd38d",
   "metadata": {},
   "source": [
    "## Dev"
   ]
  },
  {
   "cell_type": "code",
   "execution_count": 5,
   "id": "6add7efc-d18e-4825-a576-cd0a3aeb7d11",
   "metadata": {},
   "outputs": [
    {
     "data": {
      "text/plain": [
       "'/scratch/cs/world-models/dainesn1/behavior/behavior'"
      ]
     },
     "execution_count": 5,
     "metadata": {},
     "output_type": "execute_result"
    }
   ],
   "source": [
    "os.path.dirname(behavior.__file__)"
   ]
  },
  {
   "cell_type": "code",
   "execution_count": 6,
   "id": "c8ca87e3-0cf6-41ed-bf5c-ed77619857bc",
   "metadata": {},
   "outputs": [
    {
     "data": {
      "text/plain": [
       "{'scene': 'igibson',\n",
       " 'scene_id': 'Beechwood_1_int',\n",
       " 'clutter': False,\n",
       " 'build_graph': True,\n",
       " 'load_texture': True,\n",
       " 'pybullet_load_texture': True,\n",
       " 'should_open_all_doors': False,\n",
       " 'texture_randomization_freq': None,\n",
       " 'object_randomization_freq': None,\n",
       " 'robot': {'name': 'BehaviorRobot'},\n",
       " 'task': 'cleaning_cupboards',\n",
       " 'task_id': 0,\n",
       " 'instance_id': 0,\n",
       " 'online_sampling': False,\n",
       " 'discount_factor': 0.99,\n",
       " 'max_step': 500,\n",
       " 'output': ['proprioception',\n",
       "  'rgb',\n",
       "  'highlight',\n",
       "  'depth',\n",
       "  'seg',\n",
       "  'ins_seg',\n",
       "  'task_obs'],\n",
       " 'fisheye': False,\n",
       " 'image_width': 128,\n",
       " 'image_height': 128,\n",
       " 'vertical_fov': 120,\n",
       " 'depth_low': 0.0,\n",
       " 'depth_high': 10.0,\n",
       " 'depth_noise_rate': 0.0,\n",
       " 'scan_noise_rate': 0.0}"
      ]
     },
     "execution_count": 6,
     "metadata": {},
     "output_type": "execute_result"
    }
   ],
   "source": [
    "env_config_file = os.path.join(\n",
    "            os.path.dirname(behavior.__file__),\n",
    "            \"configs/behavior_full_observability.yaml\",\n",
    "        )\n",
    "env_config = parse_config(env_config_file)\n",
    "env_config"
   ]
  },
  {
   "cell_type": "code",
   "execution_count": 7,
   "id": "2f087d74-5a8c-465e-aeec-a8b6bcdf6ba5",
   "metadata": {},
   "outputs": [
    {
     "data": {
      "text/plain": [
       "{'scene': 'igibson',\n",
       " 'scene_id': 'Beechwood_1_int',\n",
       " 'clutter': False,\n",
       " 'build_graph': True,\n",
       " 'load_texture': True,\n",
       " 'pybullet_load_texture': True,\n",
       " 'should_open_all_doors': False,\n",
       " 'texture_randomization_freq': None,\n",
       " 'object_randomization_freq': None,\n",
       " 'robot': {'name': 'BehaviorRobot'},\n",
       " 'task': 'cleaning_cupboards',\n",
       " 'task_id': 0,\n",
       " 'instance_id': 0,\n",
       " 'online_sampling': False,\n",
       " 'discount_factor': 0.99,\n",
       " 'max_step': 500,\n",
       " 'output': ['proprioception',\n",
       "  'rgb',\n",
       "  'highlight',\n",
       "  'depth',\n",
       "  'seg',\n",
       "  'ins_seg',\n",
       "  'task_obs'],\n",
       " 'fisheye': False,\n",
       " 'image_width': 720,\n",
       " 'image_height': 720,\n",
       " 'vertical_fov': 120,\n",
       " 'depth_low': 0.0,\n",
       " 'depth_high': 10.0,\n",
       " 'depth_noise_rate': 0.0,\n",
       " 'scan_noise_rate': 0.0}"
      ]
     },
     "execution_count": 7,
     "metadata": {},
     "output_type": "execute_result"
    }
   ],
   "source": [
    "# Modify env_config - later we can make our own\n",
    "env_config['image_width'] = 720\n",
    "env_config['image_height'] = 720\n",
    "# No idea what all this stuff is, but we might want to remove everything that is not useful once we inspect it\n",
    "env_config['output'] = ['proprioception','rgb','highlight','depth','seg','ins_seg','task_obs']\n",
    "env_config"
   ]
  },
  {
   "cell_type": "markdown",
   "id": "e830ac8a-e8df-4c8c-8557-379faa02d56e",
   "metadata": {},
   "source": [
    "## Helper functions"
   ]
  },
  {
   "cell_type": "code",
   "execution_count": 8,
   "id": "9499ca02-af6b-43e2-937a-4bb42bd73272",
   "metadata": {},
   "outputs": [],
   "source": [
    "#scene_id =  \"Beechwood_0_int\"\n",
    "#task = \"assembling_gift_baskets\"\n",
    "#env_config = get_env_config()\n",
    "#env_config[\"scene_id\"] = scene_id\n",
    "#env_config[\"task\"] = task\n",
    "#env_config[\"task_id\"] = 0\n",
    "#env_config[\"instance_id\"] = 0\n",
    "\n",
    "# Keep this in memory as it's removed from the config when we init iGibson - so we need to reload it\n",
    "#robot_name = env_config[\"robot\"][\"name\"]\n",
    "\n",
    "#env = iGibsonEnv(\n",
    "#        config_file=env_config,\n",
    "#        mode=\"headless\",\n",
    "#        action_timestep=1.0 / 30.0,\n",
    "#        physics_timestep=1.0 / 120.0,\n",
    "#    )\n",
    "\n",
    "#render_robot_pov(env, env_config, step='initial')"
   ]
  },
  {
   "cell_type": "markdown",
   "id": "13de2821-f347-40ce-9d2e-f13ea53c014e",
   "metadata": {},
   "source": [
    "## Full loop"
   ]
  },
  {
   "cell_type": "code",
   "execution_count": 9,
   "id": "64eeaabd-d052-4735-81ef-aa804a1bfd9d",
   "metadata": {},
   "outputs": [
    {
     "name": "stdout",
     "output_type": "stream",
     "text": [
      "\n",
      " assembling_gift_baskets Beechwood_0_int 0\n",
      "Rendering settings is None - going with the default settings!\n"
     ]
    },
    {
     "name": "stderr",
     "output_type": "stream",
     "text": [
      "scene quality check: bottom_cabinet_84 has joint that cannot extend for >66%.\n",
      "/miniconda/envs/igibson/lib/python3.8/site-packages/gym/spaces/box.py:73: UserWarning: \u001b[33mWARN: Box bound precision lowered by casting to float32\u001b[0m\n",
      "  logger.warn(\n",
      "Robot's cached initial pose has collisions.\n"
     ]
    },
    {
     "name": "stdout",
     "output_type": "stream",
     "text": [
      "\t\t\t\t\t\t\t\t\t\t\t\t\t\t\t\t\t\t\t\t\t\t\t\t\t\t\t\t\t\t\t\t\t\t\t\t\t\t\t\t\t\t\t\t\t\t\t\t\t\t\t\t\t\t\t\t\t\t\t\t\t\t\t\t\t\t\t\t\t\t\t\t\t\t\t\t\t\t\t\t\t\t\t\t\t\t\t\t\t\t\t\t\t\t\t\t\t\t\t\t\t\t\t\t\t\t\t\t\t\t\t\t\t\t\t\t\t\t\t\t\t\t\t\t\t\t\t\t\t\t\t\t\t\t\t\t\t\t\t\t\t\t\t\t\t\t\t\t\t\t\t\t\t\t\t\t\t\t\t\t\t\t\t\t\t\t\t\t\t\t\t\t\t\t\t\t\t\t\t\t\t\t\t\t\t\t\tb3Warning[examples/Importers/ImportURDFDemo/BulletUrdfImporter.cpp,126]:\n",
      "No inertial data for link, using mass=1, localinertiadiagonal = 1,1,1, identity local inertial frameb3Warning[examples/Importers/ImportURDFDemo/BulletUrdfImporter.cpp,126]:\n",
      "left_hand_shoulderb3Warning[examples/Importers/ImportURDFDemo/BulletUrdfImporter.cpp,126]:\n",
      "No inertial data for link, using mass=1, localinertiadiagonal = 1,1,1, identity local inertial frameb3Warning[examples/Importers/ImportURDFDemo/BulletUrdfImporter.cpp,126]:\n",
      "right_hand_shoulderb3Warning[examples/Importers/ImportURDFDemo/BulletUrdfImporter.cpp,126]:\n",
      "No inertial data for link, using mass=1, localinertiadiagonal = 1,1,1, identity local inertial frameb3Warning[examples/Importers/ImportURDFDemo/BulletUrdfImporter.cpp,126]:\n",
      "neckb3Warning[examples/Importers/ImportURDFDemo/BulletUrdfImporter.cpp,126]:\n",
      "No inertial data for link, using mass=1, localinertiadiagonal = 1,1,1, identity local inertial frameb3Warning[examples/Importers/ImportURDFDemo/BulletUrdfImporter.cpp,126]:\n",
      "eyesGenerating only the first instance of the scene\n",
      "Generating only the first scene for the task\n",
      "\n",
      " bottling_fruit Benevolence_1_int 0\n",
      "Rendering settings is None - going with the default settings!\n"
     ]
    },
    {
     "name": "stderr",
     "output_type": "stream",
     "text": [
      "\n",
      "KeyboardInterrupt\n",
      "\n"
     ]
    }
   ],
   "source": [
    "for activity in activities:\n",
    "    assert activity in activity_to_scenes.keys()\n",
    "    scenes = sorted(set(activity_to_scenes[activity]))  # Get the scenes where the activity can be performed\n",
    "    num_scenes = len(scenes)\n",
    "    assert num_scenes <= 3\n",
    "\n",
    "    # Official benchmark: Evaluate 9 episodes per activity\n",
    "    # instance id 0-9: seen poses\n",
    "    # instance id 10-19: unseen poses\n",
    "    # instance id 20-29: unseen scenes (same houses but different furniture arrangement)\n",
    "    # If you don't have enough activity instances in ig_dataset, the behavior data bundle is outdated.\n",
    "    # You need to follow the participant guide and download again.\n",
    "\n",
    "    # Depending on the number of scenes available for this activity\n",
    "    if num_scenes == 3:\n",
    "        # Regular case. We use three instances per scene (one \"seen poses\", one \"unseen poses\" and one\n",
    "        # \"unseen scene\" (different furniture))\n",
    "        scene_instance_ids = {\n",
    "            scenes[0]: [0, 10, 20],\n",
    "            scenes[1]: [0, 10, 20],\n",
    "            scenes[2]: [0, 10, 20],\n",
    "        }\n",
    "    elif num_scenes == 2:\n",
    "        # We use four instances of one scene (two \"seen poses\", one \"unseen poses\" and one\n",
    "        # \"unseen scene\" (different furniture)) and five from another scene (two \"seen poses\", two\n",
    "        # \"unseen poses\" and one \"unseen scene\" (different furniture))\n",
    "        scene_instance_ids = {\n",
    "            scenes[0]: [0, 1, 10, 20],\n",
    "            scenes[1]: [0, 1, 10, 11, 20],\n",
    "        }\n",
    "    else:\n",
    "        # We use nine instances of one scene (three \"seen poses\", three \"unseen poses\" and three\n",
    "        # \"unseen scene\" (different furniture))\n",
    "        scene_instance_ids = {scenes[0]: [0, 1, 2, 10, 11, 12, 20, 21, 22]}\n",
    "\n",
    "    # Generate scene and useful info about it\n",
    "    generate_scenes(activity, scene_instance_ids, gen_only_first=True)"
   ]
  },
  {
   "cell_type": "code",
   "execution_count": null,
   "id": "144853d8-cbf3-4b65-9273-b6f62f9dacbe",
   "metadata": {},
   "outputs": [],
   "source": []
  }
 ],
 "metadata": {
  "kernelspec": {
   "display_name": "Python 3 (ipykernel)",
   "language": "python",
   "name": "python3"
  },
  "language_info": {
   "codemirror_mode": {
    "name": "ipython",
    "version": 3
   },
   "file_extension": ".py",
   "mimetype": "text/x-python",
   "name": "python",
   "nbconvert_exporter": "python",
   "pygments_lexer": "ipython3",
   "version": "3.8.13"
  }
 },
 "nbformat": 4,
 "nbformat_minor": 5
}
