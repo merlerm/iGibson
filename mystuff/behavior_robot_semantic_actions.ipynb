{
 "cells": [
  {
   "cell_type": "code",
   "execution_count": 1,
   "id": "4215ec30-0d83-41e0-8633-598cfcfcd782",
   "metadata": {},
   "outputs": [
    {
     "name": "stdout",
     "output_type": "stream",
     "text": [
      "\n",
      " _   _____  _  _\n",
      "(_) / ____|(_)| |\n",
      " _ | |  __  _ | |__   ___   ___   _ __\n",
      "| || | |_ || || '_ \\ / __| / _ \\ | '_ \\\n",
      "| || |__| || || |_) |\\__ \\| (_) || | | |\n",
      "|_| \\_____||_||_.__/ |___/ \\___/ |_| |_|\n",
      "\n"
     ]
    },
    {
     "name": "stderr",
     "output_type": "stream",
     "text": [
      "/miniconda/envs/igibson/lib/python3.8/site-packages/tqdm/auto.py:22: TqdmWarning: IProgress not found. Please update jupyter and ipywidgets. See https://ipywidgets.readthedocs.io/en/stable/user_install.html\n",
      "  from .autonotebook import tqdm as notebook_tqdm\n"
     ]
    }
   ],
   "source": [
    "# Extract from https://github.com/StanfordVL/behavior/blob/main/behavior/benchmark/behavior_benchmark.py\n",
    "import os\n",
    "import numpy as np\n",
    "\n",
    "from PIL import Image\n",
    "from igibson.utils.utils import parse_config\n",
    "\n",
    "from igibson import object_states\n",
    "from igibson.utils.utils import restoreState\n",
    "\n",
    "from igibson.action_primitives.behavior_robot_semantic_actions_env import BehaviorRobotSemanticActionEnv\n",
    "from igibson.custom_utils import get_env_config, print_properties\n",
    "from igibson.primitives_utils import get_names_of_visible_obj_inside, get_objects_inside, settle_physics \n",
    "import igibson.render_utils as render_utils\n",
    "\n",
    "import warnings\n",
    "warnings.filterwarnings(\"ignore\")"
   ]
  },
  {
   "cell_type": "code",
   "execution_count": 2,
   "id": "bb87536f-7308-4453-955f-15ae792a99af",
   "metadata": {},
   "outputs": [],
   "source": [
    "%load_ext autoreload\n",
    "%autoreload 2"
   ]
  },
  {
   "cell_type": "code",
   "execution_count": 12,
   "id": "4f3976ac-498a-4fd1-b376-9d5751e928c3",
   "metadata": {},
   "outputs": [
    {
     "name": "stdout",
     "output_type": "stream",
     "text": [
      "Rendering settings is None - going with the default settings!\n",
      "\t\t\t\t\t\t\t\t\t\t\t\t\t\t\t\t\t\t\t\t\t\t\t\t\t\t\t\t\t\t\t\t\t\t\t\t\t\t\t\t\t\t\t\t\t\t\t\t\t\t\t\t\t\t\t\t\t\t\t\t\t\t\t\t\t\t\t\t\t\tb3Warning[examples/Importers/ImportURDFDemo/BulletUrdfImporter.cpp,126]:\n",
      "No inertial data for link, using mass=1, localinertiadiagonal = 1,1,1, identity local inertial frameb3Warning[examples/Importers/ImportURDFDemo/BulletUrdfImporter.cpp,126]:\n",
      "left_hand_shoulderb3Warning[examples/Importers/ImportURDFDemo/BulletUrdfImporter.cpp,126]:\n",
      "No inertial data for link, using mass=1, localinertiadiagonal = 1,1,1, identity local inertial frameb3Warning[examples/Importers/ImportURDFDemo/BulletUrdfImporter.cpp,126]:\n",
      "right_hand_shoulderb3Warning[examples/Importers/ImportURDFDemo/BulletUrdfImporter.cpp,126]:\n",
      "No inertial data for link, using mass=1, localinertiadiagonal = 1,1,1, identity local inertial frameb3Warning[examples/Importers/ImportURDFDemo/BulletUrdfImporter.cpp,126]:\n",
      "neckb3Warning[examples/Importers/ImportURDFDemo/BulletUrdfImporter.cpp,126]:\n",
      "No inertial data for link, using mass=1, localinertiadiagonal = 1,1,1, identity local inertial frameb3Warning[examples/Importers/ImportURDFDemo/BulletUrdfImporter.cpp,126]:\n",
      "eyes"
     ]
    }
   ],
   "source": [
    "# Env config\n",
    "task = \"cleaning_out_drawers\"\n",
    "scene_id =  \"Benevolence_1_int\"\n",
    "\n",
    "# Init env\n",
    "env = BehaviorRobotSemanticActionEnv(task, scene_id, verbose=True)"
   ]
  },
  {
   "cell_type": "code",
   "execution_count": 13,
   "id": "48f575ce-c2fd-49bf-b7e6-49082023b3ab",
   "metadata": {},
   "outputs": [],
   "source": [
    "# Pick which object to navigate to\n",
    "# 'sink.n.01_1' (nothing inside)\n",
    "# 'cabinet.n.01_1' (contains 'bowl.n.01_1', 'bowl.n.01_2', 'piece_of_cloth.n.01_1' )\n",
    "# 'cabinet.n.01_2' (contains 'spoon.n.01_1' and 'spoon.n.01_2')\n",
    "# See all list with \n",
    "# print(env.task.object_scope)\n",
    "\n",
    "plan = [\n",
    "    {'action':'go_to', 'params':{'obj_name':'cabinet.n.01_1'}},\n",
    "    {'action':'open', 'params':{'obj_name':'cabinet.n.01_1'}}, # TODO: add better prompts for the outer loop + it's failing too often\n",
    "    {'action':'grasp', 'params':{'obj_name':'bowl.n.01_1'}} # TODO: make the grasp more realistic somehow \n",
    "       ]"
   ]
  },
  {
   "cell_type": "code",
   "execution_count": null,
   "id": "2a5e392e-22bf-4bd1-b409-6b132b9ee72c",
   "metadata": {
    "scrolled": true
   },
   "outputs": [],
   "source": [
    "image, symbolic_state = env.get_state_and_image()\n",
    "\n",
    "# TODO: Render image and print symbolic_state\n",
    "image.show()\n",
    "\n",
    "for action in plan:\n",
    "    try:\n",
    "        success, image, symbolic_state = env.apply_action(action)\n",
    "        print(f'Action {action} executed. Success: {success}')\n",
    "        # TODO: Render image and print symbolic_state\n",
    "        image.show()\n",
    "        \n",
    "        legal = True\n",
    "        \n",
    "    except ValueError as e:\n",
    "        print(f\"Action {action} failed: {e}\")\n",
    "        success = False\n",
    "        legal = False"
   ]
  },
  {
   "cell_type": "code",
   "execution_count": null,
   "id": "c02b6c1a-4582-473f-85a2-7bb7c824f5c9",
   "metadata": {},
   "outputs": [],
   "source": []
  },
  {
   "cell_type": "code",
   "execution_count": null,
   "id": "b0592fa8-e29d-4796-95d5-92ce2355b41e",
   "metadata": {},
   "outputs": [],
   "source": []
  }
 ],
 "metadata": {
  "kernelspec": {
   "display_name": "Python 3 (ipykernel)",
   "language": "python",
   "name": "python3"
  },
  "language_info": {
   "codemirror_mode": {
    "name": "ipython",
    "version": 3
   },
   "file_extension": ".py",
   "mimetype": "text/x-python",
   "name": "python",
   "nbconvert_exporter": "python",
   "pygments_lexer": "ipython3",
   "version": "3.8.13"
  }
 },
 "nbformat": 4,
 "nbformat_minor": 5
}
