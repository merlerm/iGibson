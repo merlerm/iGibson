{
 "cells": [
  {
   "cell_type": "code",
   "execution_count": null,
   "id": "a956736f-3a77-4078-bb5d-49c6139d5503",
   "metadata": {},
   "outputs": [],
   "source": [
    "# Extract from https://github.com/StanfordVL/behavior/blob/main/behavior/benchmark/behavior_benchmark.py\n",
    "import os\n",
    "import numpy as np\n",
    "\n",
    "from PIL import Image\n",
    "from igibson.utils.utils import parse_config\n",
    "\n",
    "from igibson import object_states\n",
    "from igibson.utils.utils import restoreState\n",
    "\n",
    "from igibson.action_primitives.fetch_robot_semantic_actions_env import FetchRobotSemanticActionEnv\n",
    "from igibson.custom_utils import get_env_config, print_properties\n",
    "from igibson.primitives_utils import get_names_of_visible_obj_inside, get_objects_inside, settle_physics \n",
    "import igibson.render_utils as render_utils\n",
    "\n",
    "import warnings\n",
    "warnings.filterwarnings(\"ignore\")"
   ]
  },
  {
   "cell_type": "code",
   "execution_count": null,
   "id": "4df64637-06f9-49cb-b140-aa2a71cf060a",
   "metadata": {},
   "outputs": [],
   "source": [
    "%load_ext autoreload\n",
    "%autoreload 2"
   ]
  },
  {
   "cell_type": "code",
   "execution_count": null,
   "id": "99d1f857-bab0-4a25-bea7-f498f9515083",
   "metadata": {},
   "outputs": [],
   "source": [
    "# Env config\n",
    "task = \"cleaning_out_drawers\"\n",
    "scene_id =  \"Benevolence_1_int\"\n",
    "\n",
    "# Init env\n",
    "sim_env = FetchRobotSemanticActionEnv(task, scene_id, verbose=False)"
   ]
  },
  {
   "cell_type": "code",
   "execution_count": null,
   "id": "7a50d119-d412-4492-b452-61f6e21d48d7",
   "metadata": {},
   "outputs": [],
   "source": [
    "def print_symbolic_state(state):\n",
    "    print(\"-\"*76)\n",
    "    print(\"Symbolic state: \\n\")\n",
    "    for k in state:\n",
    "        true_states = {}\n",
    "        for key in state[k].keys():\n",
    "            val = state[k][key] # bool\n",
    "            if val: \n",
    "                true_states[key] = val\n",
    "                \n",
    "        print(k, true_states)\n",
    "    print(\"-\"*76)\n",
    "\n",
    "def execute_plan(sim_env, plan):\n",
    "    image, symbolic_state = sim_env.get_state_and_image()\n",
    "\n",
    "    image.show()\n",
    "    print_symbolic_state(symbolic_state)\n",
    "    \n",
    "    for action in plan:\n",
    "        try:\n",
    "            success, image, symbolic_state = sim_env.apply_action(action)\n",
    "            print(f'Action {action} executed. Success: {success}')\n",
    "\n",
    "            image.show()\n",
    "            print_symbolic_state(symbolic_state)\n",
    "            \n",
    "            legal = True\n",
    "            \n",
    "        except (ValueError, AssertionError) as e:\n",
    "            print(f\"Action {action} failed: {e}\")\n",
    "            success = False\n",
    "            legal = False"
   ]
  },
  {
   "cell_type": "markdown",
   "id": "187478cc-e165-49b2-8a98-781802bf408e",
   "metadata": {},
   "source": [
    "# Plan 1: Place on top of sink"
   ]
  },
  {
   "cell_type": "code",
   "execution_count": null,
   "id": "02af68b4-5402-4112-ad69-71091b39fada",
   "metadata": {},
   "outputs": [],
   "source": [
    "plan = [\n",
    "    {'action':'navigate-to', 'params':['cabinet_1']},\n",
    "    {'action':'open-container', 'params':['cabinet_1']},\n",
    "    {'action':'navigate-to', 'params':['cabinet_1']}, # not needed, but useful to stress-test \n",
    "    {'action':'close-container', 'params':['cabinet_1']}\n",
    "]"
   ]
  },
  {
   "cell_type": "code",
   "execution_count": null,
   "id": "979be86a-bad0-4ac4-94e1-770b55471aa8",
   "metadata": {},
   "outputs": [],
   "source": [
    "plan = [\n",
    "    {'action':'navigate-to', 'params':['cabinet_1']},\n",
    "    {'action':'open-container', 'params':['cabinet_1']}, \n",
    "    {'action':'grasp', 'params':['bowl_1']}, \n",
    "    {'action':'navigate-to', 'params':['sink_1']},\n",
    "    {'action':'place-on', 'params':['bowl_1','sink_1']},\n",
    "    {'action':'navigate-to', 'params':['cabinet_1']},\n",
    "    {'action':'grasp', 'params':['bowl_2']},\n",
    "    {'action':'navigate-to', 'params':['sink_1']},\n",
    "    {'action':'place-next-to', 'params':['bowl_2','bowl_1']},\n",
    "    ]"
   ]
  },
  {
   "cell_type": "code",
   "execution_count": null,
   "id": "eff8fb7d-ba8d-4f41-82b4-efda12329406",
   "metadata": {},
   "outputs": [],
   "source": [
    "image, symbolic_state = sim_env.get_state_and_image()\n",
    "\n",
    "image.show()\n",
    "print_symbolic_state(symbolic_state)\n",
    "\n",
    "for action in plan:\n",
    "    try:\n",
    "        success, image, symbolic_state = sim_env.apply_action(action)\n",
    "        print(f'Action {action} executed. Success: {success}')\n",
    "\n",
    "        image.show()\n",
    "        print_symbolic_state(symbolic_state)\n",
    "        \n",
    "        legal = True\n",
    "        \n",
    "    except (ValueError, AssertionError) as e:\n",
    "        print(f\"Action {action} failed: {e}\")\n",
    "        success = False\n",
    "        legal = False"
   ]
  },
  {
   "cell_type": "markdown",
   "id": "1a2ccd6e-6ad6-4f8d-bfc4-a8b4e4339d33",
   "metadata": {},
   "source": [
    "# Plan 2: Place inside cabinet"
   ]
  },
  {
   "cell_type": "code",
   "execution_count": null,
   "id": "28e9ee4b-7081-4cde-ba67-ded5ada94777",
   "metadata": {},
   "outputs": [],
   "source": [
    "plan = [\n",
    "    {'action':'grasp', 'params':{'obj_name':'bowl.n.01_1'}},\n",
    "    {'action':'go_to', 'params':{'obj_name':'cabinet.n.01_1'}},\n",
    "    {'action':'place_inside', 'params':{'trg_obj_name':'bowl.n.01_1', 'container_obj_name':'cabinet.n.01_1'}},\n",
    "]"
   ]
  },
  {
   "cell_type": "code",
   "execution_count": null,
   "id": "cf960891-79f6-436b-b174-242f3637de1d",
   "metadata": {
    "scrolled": true
   },
   "outputs": [],
   "source": [
    "execute_plan(sim_env, plan)"
   ]
  },
  {
   "cell_type": "code",
   "execution_count": null,
   "id": "94fc62cd-1381-424a-9fd9-6f1ca59ec6a9",
   "metadata": {},
   "outputs": [],
   "source": []
  }
 ],
 "metadata": {
  "kernelspec": {
   "display_name": "Python 3 (ipykernel)",
   "language": "python",
   "name": "python3"
  },
  "language_info": {
   "codemirror_mode": {
    "name": "ipython",
    "version": 3
   },
   "file_extension": ".py",
   "mimetype": "text/x-python",
   "name": "python",
   "nbconvert_exporter": "python",
   "pygments_lexer": "ipython3",
   "version": "3.8.13"
  }
 },
 "nbformat": 4,
 "nbformat_minor": 5
}
