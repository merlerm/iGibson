{
 "cells": [
  {
   "cell_type": "code",
   "execution_count": 1,
   "metadata": {},
   "outputs": [],
   "source": [
    "import os"
   ]
  },
  {
   "cell_type": "code",
   "execution_count": 2,
   "metadata": {},
   "outputs": [],
   "source": [
    "from unified_planning.shortcuts import *\n",
    "from unified_planning.io import PDDLReader"
   ]
  },
  {
   "cell_type": "code",
   "execution_count": 3,
   "metadata": {},
   "outputs": [
    {
     "data": {
      "text/plain": [
       "['opening_presents.pddl',\n",
       " 'locking_every_window.pddl',\n",
       " 'picking_up_take-out_food.pddl',\n",
       " 'opening_packages.pddl',\n",
       " 'packing_food_for_work.pddl',\n",
       " 'cleaning_out_drawers.pddl',\n",
       " 'locking_every_door.pddl',\n",
       " 'bringing_in_wood.pddl',\n",
       " '.ipynb_checkpoints']"
      ]
     },
     "execution_count": 3,
     "metadata": {},
     "output_type": "execute_result"
    }
   ],
   "source": [
    "os.listdir('pddl/easy')"
   ]
  },
  {
   "cell_type": "code",
   "execution_count": 8,
   "metadata": {},
   "outputs": [
    {
     "name": "stdout",
     "output_type": "stream",
     "text": [
      "\n",
      "Looking for plan for pddl/easy/opening_presents.pddl\n",
      "\u001b[96m  *** Credits ***\n",
      "\u001b[0m\u001b[96m  * In operation mode `OneshotPlanner` at line 14 of `/tmp/ipykernel_1380951/1099384165.py`, \u001b[0m\u001b[96myou are using the following planning engine:\n",
      "\u001b[0m\u001b[96m  * Engine name: Fast Downward\n",
      "  * Developers:  Uni Basel team and contributors (cf. https://github.com/aibasel/downward/blob/main/README.md)\n",
      "\u001b[0m\u001b[96m  * Description: \u001b[0m\u001b[96mFast Downward is a domain-independent classical planning system.\u001b[0m\u001b[96m\n",
      "\u001b[0m\u001b[96m\n",
      "\u001b[0mPlan found.\n",
      "navigate-to(agent_1, package_1)\n",
      "open-container(agent_1, package_1)\n",
      "navigate-to(agent_1, package_2)\n",
      "open-container(agent_1, package_2)\n",
      "\n",
      "Looking for plan for pddl/easy/locking_every_window.pddl\n",
      "\u001b[96m  *** Credits ***\n",
      "\u001b[0m\u001b[96m  * In operation mode `OneshotPlanner` at line 14 of `/tmp/ipykernel_1380951/1099384165.py`, \u001b[0m\u001b[96myou are using the following planning engine:\n",
      "\u001b[0m\u001b[96m  * Engine name: Fast Downward\n",
      "  * Developers:  Uni Basel team and contributors (cf. https://github.com/aibasel/downward/blob/main/README.md)\n",
      "\u001b[0m\u001b[96m  * Description: \u001b[0m\u001b[96mFast Downward is a domain-independent classical planning system.\u001b[0m\u001b[96m\n",
      "\u001b[0m\u001b[96m\n",
      "\u001b[0mPlan found.\n",
      "navigate-to(agent_1, window_1)\n",
      "close-container(agent_1, window_1)\n",
      "navigate-to(agent_1, window_2)\n",
      "close-container(agent_1, window_2)\n",
      "navigate-to(agent_1, window_3)\n",
      "close-container(agent_1, window_3)\n",
      "navigate-to(agent_1, window_4)\n",
      "close-container(agent_1, window_4)\n",
      "\n",
      "Looking for plan for pddl/easy/picking_up_take-out_food.pddl\n",
      "\u001b[96m  *** Credits ***\n",
      "\u001b[0m\u001b[96m  * In operation mode `OneshotPlanner` at line 14 of `/tmp/ipykernel_1380951/1099384165.py`, \u001b[0m\u001b[96myou are using the following planning engine:\n",
      "\u001b[0m\u001b[96m  * Engine name: Fast Downward\n",
      "  * Developers:  Uni Basel team and contributors (cf. https://github.com/aibasel/downward/blob/main/README.md)\n",
      "\u001b[0m\u001b[96m  * Description: \u001b[0m\u001b[96mFast Downward is a domain-independent classical planning system.\u001b[0m\u001b[96m\n",
      "\u001b[0m\u001b[96m\n",
      "\u001b[0mPlan found.\n",
      "navigate-to(agent_1, carton_1)\n",
      "grasp(agent_1, carton_1)\n",
      "navigate-to(agent_1, table_1)\n",
      "place-on(agent_1, carton_1, table_1)\n",
      "\n",
      "Looking for plan for pddl/easy/opening_packages.pddl\n",
      "\u001b[96m  *** Credits ***\n",
      "\u001b[0m\u001b[96m  * In operation mode `OneshotPlanner` at line 14 of `/tmp/ipykernel_1380951/1099384165.py`, \u001b[0m\u001b[96myou are using the following planning engine:\n",
      "\u001b[0m\u001b[96m  * Engine name: Fast Downward\n",
      "  * Developers:  Uni Basel team and contributors (cf. https://github.com/aibasel/downward/blob/main/README.md)\n",
      "\u001b[0m\u001b[96m  * Description: \u001b[0m\u001b[96mFast Downward is a domain-independent classical planning system.\u001b[0m\u001b[96m\n",
      "\u001b[0m\u001b[96m\n",
      "\u001b[0mPlan found.\n",
      "navigate-to(agent_1, package_1)\n",
      "open-container(agent_1, package_1)\n",
      "navigate-to(agent_1, package_2)\n",
      "open-container(agent_1, package_2)\n",
      "\n",
      "Looking for plan for pddl/easy/packing_food_for_work.pddl\n",
      "\u001b[96m  *** Credits ***\n",
      "\u001b[0m\u001b[96m  * In operation mode `OneshotPlanner` at line 14 of `/tmp/ipykernel_1380951/1099384165.py`, \u001b[0m\u001b[96myou are using the following planning engine:\n",
      "\u001b[0m\u001b[96m  * Engine name: Fast Downward\n",
      "  * Developers:  Uni Basel team and contributors (cf. https://github.com/aibasel/downward/blob/main/README.md)\n",
      "\u001b[0m\u001b[96m  * Description: \u001b[0m\u001b[96mFast Downward is a domain-independent classical planning system.\u001b[0m\u001b[96m\n",
      "\u001b[0m\u001b[96m\n",
      "\u001b[0mNo plan found.\n",
      "\n",
      "Looking for plan for pddl/easy/cleaning_out_drawers.pddl\n"
     ]
    },
    {
     "ename": "UPExpressionDefinitionError",
     "evalue": "In FluentExp, fluent has arity 1 but 0 parameters were passed.",
     "output_type": "error",
     "traceback": [
      "\u001b[0;31m---------------------------------------------------------------------------\u001b[0m",
      "\u001b[0;31mUPExpressionDefinitionError\u001b[0m               Traceback (most recent call last)",
      "Cell \u001b[0;32mIn[8], line 11\u001b[0m\n\u001b[1;32m      9\u001b[0m test_activity_file \u001b[38;5;241m=\u001b[39m os\u001b[38;5;241m.\u001b[39mpath\u001b[38;5;241m.\u001b[39mjoin(split_dir, test_activity_file)\n\u001b[1;32m     10\u001b[0m \u001b[38;5;28mprint\u001b[39m(\u001b[38;5;124mf\u001b[39m\u001b[38;5;124m\"\u001b[39m\u001b[38;5;130;01m\\n\u001b[39;00m\u001b[38;5;124mLooking for plan for \u001b[39m\u001b[38;5;132;01m{\u001b[39;00mtest_activity_file\u001b[38;5;132;01m}\u001b[39;00m\u001b[38;5;124m\"\u001b[39m)\n\u001b[0;32m---> 11\u001b[0m problem \u001b[38;5;241m=\u001b[39m \u001b[43mreader\u001b[49m\u001b[38;5;241;43m.\u001b[39;49m\u001b[43mparse_problem\u001b[49m\u001b[43m(\u001b[49m\u001b[43mdomain_file\u001b[49m\u001b[43m,\u001b[49m\u001b[43m \u001b[49m\u001b[43mtest_activity_file\u001b[49m\u001b[43m)\u001b[49m\n\u001b[1;32m     13\u001b[0m \u001b[38;5;66;03m# Make a plan for the problem\u001b[39;00m\n\u001b[1;32m     14\u001b[0m \u001b[38;5;28;01mwith\u001b[39;00m OneshotPlanner(problem_kind\u001b[38;5;241m=\u001b[39mproblem\u001b[38;5;241m.\u001b[39mkind) \u001b[38;5;28;01mas\u001b[39;00m planner:\n",
      "File \u001b[0;32m/scratch/cs/world-models/dainesn1/myenv/lib/python3.8/site-packages/unified_planning/io/pddl_reader.py:1258\u001b[0m, in \u001b[0;36mPDDLReader.parse_problem\u001b[0;34m(self, domain_filename, problem_filename)\u001b[0m\n\u001b[1;32m   1255\u001b[0m \u001b[38;5;28;01mif\u001b[39;00m problem_filename \u001b[38;5;129;01mis\u001b[39;00m \u001b[38;5;129;01mnot\u001b[39;00m \u001b[38;5;28;01mNone\u001b[39;00m:\n\u001b[1;32m   1256\u001b[0m     problem_res \u001b[38;5;241m=\u001b[39m \u001b[38;5;28mself\u001b[39m\u001b[38;5;241m.\u001b[39m_pp_problem\u001b[38;5;241m.\u001b[39mparse_file(problem_filename, parse_all\u001b[38;5;241m=\u001b[39m\u001b[38;5;28;01mTrue\u001b[39;00m)\n\u001b[0;32m-> 1258\u001b[0m \u001b[38;5;28;01mreturn\u001b[39;00m \u001b[38;5;28;43mself\u001b[39;49m\u001b[38;5;241;43m.\u001b[39;49m\u001b[43m_parse_problem\u001b[49m\u001b[43m(\u001b[49m\u001b[43mdomain_res\u001b[49m\u001b[43m,\u001b[49m\u001b[43m \u001b[49m\u001b[43mproblem_res\u001b[49m\u001b[43m)\u001b[49m\n",
      "File \u001b[0;32m/scratch/cs/world-models/dainesn1/myenv/lib/python3.8/site-packages/unified_planning/io/pddl_reader.py:1158\u001b[0m, in \u001b[0;36mPDDLReader._parse_problem\u001b[0;34m(self, domain_res, problem_res)\u001b[0m\n\u001b[1;32m   1155\u001b[0m         problem\u001b[38;5;241m.\u001b[39madd_unknown_initial_constraint(arg)\n\u001b[1;32m   1156\u001b[0m     \u001b[38;5;28;01melse\u001b[39;00m:\n\u001b[1;32m   1157\u001b[0m         problem\u001b[38;5;241m.\u001b[39mset_initial_value(\n\u001b[0;32m-> 1158\u001b[0m             \u001b[38;5;28;43mself\u001b[39;49m\u001b[38;5;241;43m.\u001b[39;49m\u001b[43m_parse_exp\u001b[49m\u001b[43m(\u001b[49m\u001b[43mproblem\u001b[49m\u001b[43m,\u001b[49m\u001b[43m \u001b[49m\u001b[38;5;28;43;01mNone\u001b[39;49;00m\u001b[43m,\u001b[49m\u001b[43m \u001b[49m\u001b[43mtypes_map\u001b[49m\u001b[43m,\u001b[49m\u001b[43m \u001b[49m\u001b[43m{\u001b[49m\u001b[43m}\u001b[49m\u001b[43m,\u001b[49m\u001b[43m \u001b[49m\u001b[43mi\u001b[49m\u001b[43m)\u001b[49m,\n\u001b[1;32m   1159\u001b[0m             \u001b[38;5;28mself\u001b[39m\u001b[38;5;241m.\u001b[39m_em\u001b[38;5;241m.\u001b[39mTRUE(),\n\u001b[1;32m   1160\u001b[0m         )\n\u001b[1;32m   1162\u001b[0m \u001b[38;5;28;01mif\u001b[39;00m \u001b[38;5;124m\"\u001b[39m\u001b[38;5;124mgoal\u001b[39m\u001b[38;5;124m\"\u001b[39m \u001b[38;5;129;01min\u001b[39;00m problem_res:\n\u001b[1;32m   1163\u001b[0m     problem\u001b[38;5;241m.\u001b[39madd_goal(\n\u001b[1;32m   1164\u001b[0m         \u001b[38;5;28mself\u001b[39m\u001b[38;5;241m.\u001b[39m_parse_exp(\n\u001b[1;32m   1165\u001b[0m             problem, \u001b[38;5;28;01mNone\u001b[39;00m, types_map, {}, problem_res[\u001b[38;5;124m\"\u001b[39m\u001b[38;5;124mgoal\u001b[39m\u001b[38;5;124m\"\u001b[39m][\u001b[38;5;241m0\u001b[39m]\n\u001b[1;32m   1166\u001b[0m         )\n\u001b[1;32m   1167\u001b[0m     )\n",
      "File \u001b[0;32m/scratch/cs/world-models/dainesn1/myenv/lib/python3.8/site-packages/unified_planning/io/pddl_reader.py:415\u001b[0m, in \u001b[0;36mPDDLReader._parse_exp\u001b[0;34m(self, problem, act, types_map, var, exp, assignments)\u001b[0m\n\u001b[1;32m    413\u001b[0m     solved\u001b[38;5;241m.\u001b[39mappend(\u001b[38;5;28mself\u001b[39m\u001b[38;5;241m.\u001b[39m_em\u001b[38;5;241m.\u001b[39mParameterExp(act\u001b[38;5;241m.\u001b[39mparameter(exp[\u001b[38;5;241m1\u001b[39m:])))\n\u001b[1;32m    414\u001b[0m \u001b[38;5;28;01melif\u001b[39;00m problem\u001b[38;5;241m.\u001b[39mhas_fluent(exp):  \u001b[38;5;66;03m# fluent\u001b[39;00m\n\u001b[0;32m--> 415\u001b[0m     solved\u001b[38;5;241m.\u001b[39mappend(\u001b[38;5;28;43mself\u001b[39;49m\u001b[38;5;241;43m.\u001b[39;49m\u001b[43m_em\u001b[49m\u001b[38;5;241;43m.\u001b[39;49m\u001b[43mFluentExp\u001b[49m\u001b[43m(\u001b[49m\u001b[43mproblem\u001b[49m\u001b[38;5;241;43m.\u001b[39;49m\u001b[43mfluent\u001b[49m\u001b[43m(\u001b[49m\u001b[43mexp\u001b[49m\u001b[43m)\u001b[49m\u001b[43m)\u001b[49m)\n\u001b[1;32m    416\u001b[0m \u001b[38;5;28;01melif\u001b[39;00m problem\u001b[38;5;241m.\u001b[39mhas_object(exp):  \u001b[38;5;66;03m# object\u001b[39;00m\n\u001b[1;32m    417\u001b[0m     solved\u001b[38;5;241m.\u001b[39mappend(\u001b[38;5;28mself\u001b[39m\u001b[38;5;241m.\u001b[39m_em\u001b[38;5;241m.\u001b[39mObjectExp(problem\u001b[38;5;241m.\u001b[39mobject(exp)))\n",
      "File \u001b[0;32m/scratch/cs/world-models/dainesn1/myenv/lib/python3.8/site-packages/unified_planning/model/expression.py:367\u001b[0m, in \u001b[0;36mExpressionManager.FluentExp\u001b[0;34m(self, fluent, params)\u001b[0m\n\u001b[1;32m    365\u001b[0m params_exp \u001b[38;5;241m=\u001b[39m \u001b[38;5;28mself\u001b[39m\u001b[38;5;241m.\u001b[39mauto_promote(params)\n\u001b[1;32m    366\u001b[0m \u001b[38;5;28;01mif\u001b[39;00m fluent\u001b[38;5;241m.\u001b[39marity \u001b[38;5;241m!=\u001b[39m \u001b[38;5;28mlen\u001b[39m(params_exp):\n\u001b[0;32m--> 367\u001b[0m     \u001b[38;5;28;01mraise\u001b[39;00m UPExpressionDefinitionError(\n\u001b[1;32m    368\u001b[0m         \u001b[38;5;124mf\u001b[39m\u001b[38;5;124m\"\u001b[39m\u001b[38;5;124mIn FluentExp, fluent has arity \u001b[39m\u001b[38;5;132;01m{\u001b[39;00mfluent\u001b[38;5;241m.\u001b[39marity\u001b[38;5;132;01m}\u001b[39;00m\u001b[38;5;124m but \u001b[39m\u001b[38;5;132;01m{\u001b[39;00m\u001b[38;5;28mlen\u001b[39m(params_exp)\u001b[38;5;132;01m}\u001b[39;00m\u001b[38;5;124m parameters were passed.\u001b[39m\u001b[38;5;124m\"\u001b[39m\n\u001b[1;32m    369\u001b[0m     )\n\u001b[1;32m    370\u001b[0m \u001b[38;5;28;01mreturn\u001b[39;00m \u001b[38;5;28mself\u001b[39m\u001b[38;5;241m.\u001b[39mcreate_node(\n\u001b[1;32m    371\u001b[0m     node_type\u001b[38;5;241m=\u001b[39mOperatorKind\u001b[38;5;241m.\u001b[39mFLUENT_EXP, args\u001b[38;5;241m=\u001b[39m\u001b[38;5;28mtuple\u001b[39m(params_exp), payload\u001b[38;5;241m=\u001b[39mfluent\n\u001b[1;32m    372\u001b[0m )\n",
      "\u001b[0;31mUPExpressionDefinitionError\u001b[0m: In FluentExp, fluent has arity 1 but 0 parameters were passed."
     ]
    }
   ],
   "source": [
    "reader = PDDLReader()\n",
    "\n",
    "pddl_dir = 'pddl' \n",
    "split_dir = os.path.join(pddl_dir, 'easy')\n",
    "domain_file = os.path.join(pddl_dir,'domain.pddl')\n",
    "test_activity_files = os.listdir(split_dir)\n",
    "\n",
    "for test_activity_file in test_activity_files:\n",
    "    test_activity_file = os.path.join(split_dir, test_activity_file)\n",
    "    print(f\"\\nLooking for plan for {test_activity_file}\")\n",
    "    problem = reader.parse_problem(domain_file, test_activity_file)\n",
    "    \n",
    "    # Make a plan for the problem\n",
    "    with OneshotPlanner(problem_kind=problem.kind) as planner:\n",
    "        result = planner.solve(problem)\n",
    "        \n",
    "        # print(result.log_messages)\n",
    "        \n",
    "    if result.status == up.engines.PlanGenerationResultStatus.SOLVED_SATISFICING:\n",
    "        print(\"Plan found.\")\n",
    "        for action in result.plan.actions:\n",
    "            print(action)\n",
    "    else:\n",
    "        print(\"No plan found.\")"
   ]
  },
  {
   "cell_type": "markdown",
   "metadata": {
    "jp-MarkdownHeadingCollapsed": true
   },
   "source": [
    "### Exploration of bddl"
   ]
  },
  {
   "cell_type": "code",
   "execution_count": 1,
   "metadata": {},
   "outputs": [],
   "source": [
    "import os\n",
    "import bddl"
   ]
  },
  {
   "cell_type": "code",
   "execution_count": 2,
   "metadata": {},
   "outputs": [],
   "source": [
    "activities = sorted(\n",
    "        [\n",
    "            item\n",
    "            for item in os.listdir(os.path.join(os.path.dirname(bddl.__file__), \"activity_definitions\"))\n",
    "            if item != \"domain_igibson.bddl\"\n",
    "        ]\n",
    "    )\n",
    "\n",
    "assert len(activities)==100, f\"Only {len(activities)} activities found.\""
   ]
  },
  {
   "cell_type": "code",
   "execution_count": 3,
   "metadata": {},
   "outputs": [
    {
     "data": {
      "text/plain": [
       "'/miniconda/envs/igibson/lib/python3.8/site-packages/bddl/activity_definitions'"
      ]
     },
     "execution_count": 3,
     "metadata": {},
     "output_type": "execute_result"
    }
   ],
   "source": [
    "os.path.join(os.path.dirname(bddl.__file__), \"activity_definitions\")"
   ]
  },
  {
   "cell_type": "code",
   "execution_count": 5,
   "metadata": {},
   "outputs": [
    {
     "data": {
      "text/plain": [
       "['assembling_gift_baskets',\n",
       " 'bottling_fruit',\n",
       " 'boxing_books_up_for_storage',\n",
       " 'bringing_in_wood',\n",
       " 'brushing_lint_off_clothing',\n",
       " 'chopping_vegetables',\n",
       " 'cleaning_a_car',\n",
       " 'cleaning_barbecue_grill',\n",
       " 'cleaning_bathrooms',\n",
       " 'cleaning_bathtub',\n",
       " 'cleaning_bedroom',\n",
       " 'cleaning_carpets',\n",
       " 'cleaning_closet',\n",
       " 'cleaning_cupboards',\n",
       " 'cleaning_floors',\n",
       " 'cleaning_freezer',\n",
       " 'cleaning_garage',\n",
       " 'cleaning_high_chair',\n",
       " 'cleaning_kitchen_cupboard',\n",
       " 'cleaning_microwave_oven',\n",
       " 'cleaning_out_drawers',\n",
       " 'cleaning_oven',\n",
       " 'cleaning_shoes',\n",
       " 'cleaning_sneakers',\n",
       " 'cleaning_stove',\n",
       " 'cleaning_table_after_clearing',\n",
       " 'cleaning_the_hot_tub',\n",
       " 'cleaning_the_pool',\n",
       " 'cleaning_toilet',\n",
       " 'cleaning_up_after_a_meal',\n",
       " 'cleaning_up_refrigerator',\n",
       " 'cleaning_up_the_kitchen_only',\n",
       " 'cleaning_windows',\n",
       " 'clearing_the_table_after_dinner',\n",
       " 'collect_misplaced_items',\n",
       " 'collecting_aluminum_cans',\n",
       " 'defrosting_freezer',\n",
       " 'filling_a_Christmas_stocking',\n",
       " 'filling_an_Easter_basket',\n",
       " 'installing_a_fax_machine',\n",
       " 'installing_a_modem',\n",
       " 'installing_a_printer',\n",
       " 'installing_a_scanner',\n",
       " 'installing_alarms',\n",
       " 'laying_tile_floors',\n",
       " 'laying_wood_floors',\n",
       " 'loading_the_dishwasher',\n",
       " 'locking_every_door',\n",
       " 'locking_every_window',\n",
       " 'making_tea',\n",
       " 'mopping_floors',\n",
       " 'moving_boxes_to_storage',\n",
       " 'opening_packages',\n",
       " 'opening_presents',\n",
       " 'organizing_boxes_in_garage',\n",
       " 'organizing_file_cabinet',\n",
       " 'organizing_school_stuff',\n",
       " 'packing_adult_s_bags',\n",
       " 'packing_bags_or_suitcase',\n",
       " 'packing_boxes_for_household_move_or_trip',\n",
       " 'packing_car_for_trip',\n",
       " 'packing_child_s_bag',\n",
       " 'packing_food_for_work',\n",
       " 'packing_lunches',\n",
       " 'packing_picnics',\n",
       " 'picking_up_take-out_food',\n",
       " 'picking_up_trash',\n",
       " 'polishing_furniture',\n",
       " 'polishing_shoes',\n",
       " 'polishing_silver',\n",
       " 'preparing_a_shower_for_child',\n",
       " 'preparing_salad',\n",
       " 'preserving_food',\n",
       " 'putting_away_Christmas_decorations',\n",
       " 'putting_away_Halloween_decorations',\n",
       " 'putting_away_toys',\n",
       " 'putting_dishes_away_after_cleaning',\n",
       " 'putting_leftovers_away',\n",
       " 'putting_up_Christmas_decorations_inside',\n",
       " 're-shelving_library_books',\n",
       " 'rearranging_furniture',\n",
       " 'serving_a_meal',\n",
       " 'serving_hors_d_oeuvres',\n",
       " 'setting_mousetraps',\n",
       " 'setting_up_candles',\n",
       " 'sorting_books',\n",
       " 'sorting_groceries',\n",
       " 'sorting_mail',\n",
       " 'storing_food',\n",
       " 'storing_the_groceries',\n",
       " 'thawing_frozen_food',\n",
       " 'throwing_away_leftovers',\n",
       " 'unpacking_suitcase',\n",
       " 'vacuuming_floors',\n",
       " 'washing_cars_or_other_vehicles',\n",
       " 'washing_dishes',\n",
       " 'washing_floor',\n",
       " 'washing_pots_and_pans',\n",
       " 'watering_houseplants',\n",
       " 'waxing_cars_or_other_vehicles']"
      ]
     },
     "execution_count": 5,
     "metadata": {},
     "output_type": "execute_result"
    }
   ],
   "source": [
    "activities"
   ]
  },
  {
   "cell_type": "code",
   "execution_count": 6,
   "metadata": {},
   "outputs": [
    {
     "name": "stdout",
     "output_type": "stream",
     "text": [
      "(define (domain igibson)\n",
      "    (:requirements :strips :adl)\n",
      "    (:predicates \n",
      "        (inside ?obj1 ?obj2)\n",
      "        (nextto ?obj1 ?obj2)\n",
      "        (ontop ?obj1 ?obj2)\n",
      "        (under ?obj1 ?obj2)\n",
      "        (broken ?obj1)\n",
      "        (burnt ?obj1)\n",
      "        (cooked ?obj1)\n",
      "        (dusty ?obj1)\n",
      "        (frozen ?obj1)\n",
      "        (open ?obj1)\n",
      "        (perished ?obj1)\n",
      "        (screwed ?obj1)\n",
      "        (stained ?obj1)\n",
      "        (sliced ?obj1)\n",
      "        (soaked ?obj1)\n",
      "        (timeset ?obj1)\n",
      "        (toggled_on ?obj1)\n",
      "    )\n",
      ")\n",
      "\n"
     ]
    }
   ],
   "source": [
    "domain_file = os.path.join(os.path.dirname(bddl.__file__), \"activity_definitions\", \"domain_igibson.bddl\")\n",
    "with open(domain_file, \"r\") as f:\n",
    "    domain = f.read()\n",
    "    \n",
    "print(domain)"
   ]
  },
  {
   "cell_type": "code",
   "execution_count": 7,
   "metadata": {},
   "outputs": [
    {
     "name": "stdout",
     "output_type": "stream",
     "text": [
      "Predicate 1: inside\n",
      "Predicate 2: nextto\n",
      "Predicate 3: ontop\n",
      "Predicate 4: under\n",
      "Predicate 5: broken\n",
      "Predicate 6: burnt\n",
      "Predicate 7: cooked\n",
      "Predicate 8: dusty\n",
      "Predicate 9: frozen\n",
      "Predicate 10: open\n",
      "Predicate 11: perished\n",
      "Predicate 12: screwed\n",
      "Predicate 13: stained\n",
      "Predicate 14: sliced\n",
      "Predicate 15: soaked\n",
      "Predicate 16: timeset\n",
      "Predicate 17: toggled_on\n",
      "Total predicates: 17\n"
     ]
    }
   ],
   "source": [
    "predicates_start = domain.find(\":predicates\")\n",
    "all_predicates = []\n",
    "for i, line in enumerate(domain[predicates_start:].split(\"\\n\")[1:]):\n",
    "    if line.strip() == \")\":\n",
    "        break\n",
    "    predicate = line.strip().split()[0][1:]\n",
    "    print(f\"Predicate {i+1}: {predicate}\")\n",
    "    all_predicates.append(predicate)\n",
    "    \n",
    "print(f\"Total predicates: {len(all_predicates)}\")"
   ]
  },
  {
   "cell_type": "code",
   "execution_count": 8,
   "metadata": {},
   "outputs": [],
   "source": [
    "from bddl.parsing import parse_problem, parse_predicates"
   ]
  },
  {
   "cell_type": "code",
   "execution_count": 9,
   "metadata": {},
   "outputs": [],
   "source": [
    "def parse_predicates_custom(state, all_predicates, found_predicates=None):\n",
    "    if found_predicates is None:\n",
    "        found_predicates = {'known': set(), 'unknown': set()}\n",
    "        \n",
    "    for item in state:\n",
    "        # print(item)\n",
    "        if item in ['and', 'or', 'not', 'forall', 'exists', 'forpairs', 'forn']:\n",
    "            continue\n",
    "        if type(item) == list and len(item) == 1:\n",
    "            continue\n",
    "        if item[0].startswith(\"?\"): # Ignore variables (type)\n",
    "            continue\n",
    "        if type(item[0]) == str and type(item[1]) == str:\n",
    "            if item[0] in all_predicates:\n",
    "                found_predicates['known'].add(item[0])\n",
    "            else:\n",
    "                found_predicates['unknown'].add(item[0])\n",
    "        else:\n",
    "            parse_predicates_custom(item, all_predicates, found_predicates)\n",
    "            \n",
    "    return found_predicates"
   ]
  },
  {
   "cell_type": "code",
   "execution_count": 10,
   "metadata": {},
   "outputs": [
    {
     "name": "stdout",
     "output_type": "stream",
     "text": [
      "chopping_vegetables\n"
     ]
    },
    {
     "data": {
      "text/plain": [
       "{'known': {'inside', 'sliced'}, 'unknown': set()}"
      ]
     },
     "execution_count": 10,
     "metadata": {},
     "output_type": "execute_result"
    }
   ],
   "source": [
    "activity = activities[5]\n",
    "print(activity)\n",
    "\n",
    "problem, objects, initial_state, goal_state = parse_problem(activity, \"0\", domain_name=\"igibson\")\n",
    "parse_predicates_custom(goal_state, all_predicates)"
   ]
  },
  {
   "cell_type": "code",
   "execution_count": 11,
   "metadata": {},
   "outputs": [],
   "source": [
    "predicates_for_activity = {}\n",
    "\n",
    "for activity in activities:\n",
    "    problem, objects, initial_state, goal_state = parse_problem(activity, \"0\", domain_name=\"igibson\")\n",
    "    found_predicates = parse_predicates_custom(initial_state, all_predicates)\n",
    "    found_predicates_for_goal = parse_predicates_custom(goal_state, all_predicates)\n",
    "    found_predicates['known'] = found_predicates['known'].union(found_predicates_for_goal['known'])\n",
    "    found_predicates['unknown'] = found_predicates['unknown'].union(found_predicates_for_goal['unknown'])\n",
    "    predicates_for_activity[activity] = found_predicates"
   ]
  },
  {
   "cell_type": "code",
   "execution_count": 12,
   "metadata": {},
   "outputs": [
    {
     "name": "stdout",
     "output_type": "stream",
     "text": [
      "inroom (unknown): 100\n",
      "onfloor (unknown): 100\n",
      "ontop (known): 69\n",
      "inside (known): 67\n",
      "stained (known): 27\n",
      "nextto (known): 26\n",
      "dusty (known): 24\n",
      "soaked (known): 13\n",
      "open (known): 7\n",
      "under (known): 6\n",
      "toggled_on (known): 6\n",
      "sliced (known): 5\n",
      "cooked (known): 3\n",
      "touching (unknown): 2\n",
      "frozen (known): 2\n"
     ]
    }
   ],
   "source": [
    "# Print a global list of predicates (known and unknown), count how many activities they appear in\n",
    "\n",
    "all_predicates = set()\n",
    "all_predicates_known = set()\n",
    "\n",
    "\n",
    "for activity, predicates in predicates_for_activity.items():\n",
    "    all_predicates.update(predicates['known'])\n",
    "    all_predicates_known.update(predicates['known'])\n",
    "    all_predicates.update(predicates['unknown'])\n",
    "    \n",
    "predicate_count = {predicate: 0 for predicate in all_predicates}\n",
    "for activity, predicates in predicates_for_activity.items():\n",
    "    for predicate in predicates['known']:\n",
    "        predicate_count[predicate] += 1\n",
    "    for predicate in predicates['unknown']:\n",
    "        predicate_count[predicate] += 1\n",
    "        \n",
    "predicate_count = {k: v for k, v in sorted(predicate_count.items(), key=lambda item: item[1], reverse=True)}\n",
    "\n",
    "for predicate, count in predicate_count.items():\n",
    "    print(f\"{predicate} ({'known' if predicate in all_predicates_known else 'unknown'}): {count}\")"
   ]
  },
  {
   "cell_type": "code",
   "execution_count": 13,
   "metadata": {},
   "outputs": [
    {
     "name": "stdout",
     "output_type": "stream",
     "text": [
      "open: ['bottling_fruit', 'locking_every_door', 'locking_every_window', 'opening_packages', 'opening_presents', 'packing_adult_s_bags', 'preserving_food']\n",
      "inroom: ['assembling_gift_baskets', 'bottling_fruit', 'boxing_books_up_for_storage', 'bringing_in_wood', 'brushing_lint_off_clothing', 'chopping_vegetables', 'cleaning_a_car', 'cleaning_barbecue_grill', 'cleaning_bathrooms', 'cleaning_bathtub', 'cleaning_bedroom', 'cleaning_carpets', 'cleaning_closet', 'cleaning_cupboards', 'cleaning_floors', 'cleaning_freezer', 'cleaning_garage', 'cleaning_high_chair', 'cleaning_kitchen_cupboard', 'cleaning_microwave_oven', 'cleaning_out_drawers', 'cleaning_oven', 'cleaning_shoes', 'cleaning_sneakers', 'cleaning_stove', 'cleaning_table_after_clearing', 'cleaning_the_hot_tub', 'cleaning_the_pool', 'cleaning_toilet', 'cleaning_up_after_a_meal', 'cleaning_up_refrigerator', 'cleaning_up_the_kitchen_only', 'cleaning_windows', 'clearing_the_table_after_dinner', 'collect_misplaced_items', 'collecting_aluminum_cans', 'defrosting_freezer', 'filling_a_Christmas_stocking', 'filling_an_Easter_basket', 'installing_a_fax_machine', 'installing_a_modem', 'installing_a_printer', 'installing_a_scanner', 'installing_alarms', 'laying_tile_floors', 'laying_wood_floors', 'loading_the_dishwasher', 'locking_every_door', 'locking_every_window', 'making_tea', 'mopping_floors', 'moving_boxes_to_storage', 'opening_packages', 'opening_presents', 'organizing_boxes_in_garage', 'organizing_file_cabinet', 'organizing_school_stuff', 'packing_adult_s_bags', 'packing_bags_or_suitcase', 'packing_boxes_for_household_move_or_trip', 'packing_car_for_trip', 'packing_child_s_bag', 'packing_food_for_work', 'packing_lunches', 'packing_picnics', 'picking_up_take-out_food', 'picking_up_trash', 'polishing_furniture', 'polishing_shoes', 'polishing_silver', 'preparing_a_shower_for_child', 'preparing_salad', 'preserving_food', 'putting_away_Christmas_decorations', 'putting_away_Halloween_decorations', 'putting_away_toys', 'putting_dishes_away_after_cleaning', 'putting_leftovers_away', 'putting_up_Christmas_decorations_inside', 're-shelving_library_books', 'rearranging_furniture', 'serving_a_meal', 'serving_hors_d_oeuvres', 'setting_mousetraps', 'setting_up_candles', 'sorting_books', 'sorting_groceries', 'sorting_mail', 'storing_food', 'storing_the_groceries', 'thawing_frozen_food', 'throwing_away_leftovers', 'unpacking_suitcase', 'vacuuming_floors', 'washing_cars_or_other_vehicles', 'washing_dishes', 'washing_floor', 'washing_pots_and_pans', 'watering_houseplants', 'waxing_cars_or_other_vehicles']\n",
      "soaked: ['cleaning_a_car', 'cleaning_bathrooms', 'cleaning_oven', 'cleaning_shoes', 'cleaning_stove', 'cleaning_up_refrigerator', 'cleaning_up_the_kitchen_only', 'cleaning_windows', 'defrosting_freezer', 'making_tea', 'polishing_shoes', 'washing_pots_and_pans', 'watering_houseplants']\n",
      "touching: ['rearranging_furniture', 'sorting_mail']\n",
      "nextto: ['cleaning_bedroom', 'cleaning_closet', 'cleaning_out_drawers', 'cleaning_sneakers', 'cleaning_stove', 'cleaning_up_refrigerator', 'cleaning_up_the_kitchen_only', 'defrosting_freezer', 'filling_an_Easter_basket', 'laying_wood_floors', 'mopping_floors', 'organizing_school_stuff', 'packing_child_s_bag', 'packing_picnics', 'polishing_shoes', 'preparing_a_shower_for_child', 'putting_away_Christmas_decorations', 'putting_away_Halloween_decorations', 'putting_up_Christmas_decorations_inside', 'rearranging_furniture', 'serving_a_meal', 'serving_hors_d_oeuvres', 'setting_mousetraps', 'sorting_groceries', 'storing_the_groceries', 'thawing_frozen_food']\n",
      "sliced: ['bottling_fruit', 'chopping_vegetables', 'making_tea', 'preparing_salad', 'preserving_food']\n",
      "inside: ['assembling_gift_baskets', 'bottling_fruit', 'boxing_books_up_for_storage', 'chopping_vegetables', 'cleaning_a_car', 'cleaning_bathrooms', 'cleaning_bathtub', 'cleaning_bedroom', 'cleaning_carpets', 'cleaning_closet', 'cleaning_cupboards', 'cleaning_freezer', 'cleaning_garage', 'cleaning_high_chair', 'cleaning_kitchen_cupboard', 'cleaning_out_drawers', 'cleaning_oven', 'cleaning_sneakers', 'cleaning_stove', 'cleaning_table_after_clearing', 'cleaning_up_after_a_meal', 'cleaning_up_refrigerator', 'cleaning_up_the_kitchen_only', 'cleaning_windows', 'clearing_the_table_after_dinner', 'collect_misplaced_items', 'collecting_aluminum_cans', 'defrosting_freezer', 'filling_a_Christmas_stocking', 'filling_an_Easter_basket', 'loading_the_dishwasher', 'making_tea', 'mopping_floors', 'organizing_boxes_in_garage', 'organizing_file_cabinet', 'organizing_school_stuff', 'packing_adult_s_bags', 'packing_bags_or_suitcase', 'packing_boxes_for_household_move_or_trip', 'packing_car_for_trip', 'packing_child_s_bag', 'packing_food_for_work', 'packing_lunches', 'packing_picnics', 'picking_up_take-out_food', 'picking_up_trash', 'polishing_silver', 'preparing_salad', 'preserving_food', 'putting_away_Christmas_decorations', 'putting_away_Halloween_decorations', 'putting_away_toys', 'putting_dishes_away_after_cleaning', 'putting_leftovers_away', 'putting_up_Christmas_decorations_inside', 'serving_a_meal', 'serving_hors_d_oeuvres', 'setting_up_candles', 'sorting_groceries', 'storing_food', 'storing_the_groceries', 'thawing_frozen_food', 'throwing_away_leftovers', 'unpacking_suitcase', 'washing_dishes', 'washing_pots_and_pans', 'waxing_cars_or_other_vehicles']\n",
      "cooked: ['filling_an_Easter_basket', 'preserving_food', 'serving_a_meal']\n",
      "ontop: ['assembling_gift_baskets', 'bottling_fruit', 'boxing_books_up_for_storage', 'brushing_lint_off_clothing', 'chopping_vegetables', 'cleaning_a_car', 'cleaning_barbecue_grill', 'cleaning_bedroom', 'cleaning_closet', 'cleaning_cupboards', 'cleaning_freezer', 'cleaning_garage', 'cleaning_kitchen_cupboard', 'cleaning_microwave_oven', 'cleaning_shoes', 'cleaning_sneakers', 'cleaning_the_pool', 'cleaning_up_after_a_meal', 'cleaning_up_refrigerator', 'cleaning_up_the_kitchen_only', 'clearing_the_table_after_dinner', 'collect_misplaced_items', 'collecting_aluminum_cans', 'defrosting_freezer', 'filling_an_Easter_basket', 'installing_a_fax_machine', 'installing_a_modem', 'installing_a_printer', 'installing_a_scanner', 'installing_alarms', 'loading_the_dishwasher', 'making_tea', 'moving_boxes_to_storage', 'organizing_file_cabinet', 'organizing_school_stuff', 'packing_adult_s_bags', 'packing_bags_or_suitcase', 'packing_boxes_for_household_move_or_trip', 'packing_car_for_trip', 'packing_child_s_bag', 'packing_food_for_work', 'packing_lunches', 'packing_picnics', 'picking_up_take-out_food', 'polishing_furniture', 'preparing_salad', 'preserving_food', 'putting_away_Halloween_decorations', 'putting_away_toys', 'putting_dishes_away_after_cleaning', 'putting_leftovers_away', 'putting_up_Christmas_decorations_inside', 're-shelving_library_books', 'rearranging_furniture', 'serving_a_meal', 'serving_hors_d_oeuvres', 'setting_mousetraps', 'setting_up_candles', 'sorting_books', 'sorting_groceries', 'storing_food', 'storing_the_groceries', 'throwing_away_leftovers', 'unpacking_suitcase', 'washing_cars_or_other_vehicles', 'washing_dishes', 'washing_floor', 'washing_pots_and_pans', 'waxing_cars_or_other_vehicles']\n",
      "under: ['cleaning_sneakers', 'collect_misplaced_items', 'installing_a_modem', 'installing_a_scanner', 'polishing_furniture', 'putting_up_Christmas_decorations_inside']\n",
      "onfloor: ['assembling_gift_baskets', 'bottling_fruit', 'boxing_books_up_for_storage', 'bringing_in_wood', 'brushing_lint_off_clothing', 'chopping_vegetables', 'cleaning_a_car', 'cleaning_barbecue_grill', 'cleaning_bathrooms', 'cleaning_bathtub', 'cleaning_bedroom', 'cleaning_carpets', 'cleaning_closet', 'cleaning_cupboards', 'cleaning_floors', 'cleaning_freezer', 'cleaning_garage', 'cleaning_high_chair', 'cleaning_kitchen_cupboard', 'cleaning_microwave_oven', 'cleaning_out_drawers', 'cleaning_oven', 'cleaning_shoes', 'cleaning_sneakers', 'cleaning_stove', 'cleaning_table_after_clearing', 'cleaning_the_hot_tub', 'cleaning_the_pool', 'cleaning_toilet', 'cleaning_up_after_a_meal', 'cleaning_up_refrigerator', 'cleaning_up_the_kitchen_only', 'cleaning_windows', 'clearing_the_table_after_dinner', 'collect_misplaced_items', 'collecting_aluminum_cans', 'defrosting_freezer', 'filling_a_Christmas_stocking', 'filling_an_Easter_basket', 'installing_a_fax_machine', 'installing_a_modem', 'installing_a_printer', 'installing_a_scanner', 'installing_alarms', 'laying_tile_floors', 'laying_wood_floors', 'loading_the_dishwasher', 'locking_every_door', 'locking_every_window', 'making_tea', 'mopping_floors', 'moving_boxes_to_storage', 'opening_packages', 'opening_presents', 'organizing_boxes_in_garage', 'organizing_file_cabinet', 'organizing_school_stuff', 'packing_adult_s_bags', 'packing_bags_or_suitcase', 'packing_boxes_for_household_move_or_trip', 'packing_car_for_trip', 'packing_child_s_bag', 'packing_food_for_work', 'packing_lunches', 'packing_picnics', 'picking_up_take-out_food', 'picking_up_trash', 'polishing_furniture', 'polishing_shoes', 'polishing_silver', 'preparing_a_shower_for_child', 'preparing_salad', 'preserving_food', 'putting_away_Christmas_decorations', 'putting_away_Halloween_decorations', 'putting_away_toys', 'putting_dishes_away_after_cleaning', 'putting_leftovers_away', 'putting_up_Christmas_decorations_inside', 're-shelving_library_books', 'rearranging_furniture', 'serving_a_meal', 'serving_hors_d_oeuvres', 'setting_mousetraps', 'setting_up_candles', 'sorting_books', 'sorting_groceries', 'sorting_mail', 'storing_food', 'storing_the_groceries', 'thawing_frozen_food', 'throwing_away_leftovers', 'unpacking_suitcase', 'vacuuming_floors', 'washing_cars_or_other_vehicles', 'washing_dishes', 'washing_floor', 'washing_pots_and_pans', 'watering_houseplants', 'waxing_cars_or_other_vehicles']\n",
      "stained: ['cleaning_barbecue_grill', 'cleaning_bathrooms', 'cleaning_bathtub', 'cleaning_carpets', 'cleaning_floors', 'cleaning_freezer', 'cleaning_garage', 'cleaning_microwave_oven', 'cleaning_oven', 'cleaning_shoes', 'cleaning_sneakers', 'cleaning_stove', 'cleaning_table_after_clearing', 'cleaning_the_hot_tub', 'cleaning_the_pool', 'cleaning_toilet', 'cleaning_up_after_a_meal', 'cleaning_up_refrigerator', 'cleaning_up_the_kitchen_only', 'defrosting_freezer', 'loading_the_dishwasher', 'mopping_floors', 'polishing_shoes', 'washing_cars_or_other_vehicles', 'washing_dishes', 'washing_floor', 'washing_pots_and_pans']\n",
      "dusty: ['brushing_lint_off_clothing', 'cleaning_a_car', 'cleaning_barbecue_grill', 'cleaning_bedroom', 'cleaning_closet', 'cleaning_cupboards', 'cleaning_floors', 'cleaning_garage', 'cleaning_high_chair', 'cleaning_kitchen_cupboard', 'cleaning_microwave_oven', 'cleaning_shoes', 'cleaning_sneakers', 'cleaning_stove', 'cleaning_up_refrigerator', 'cleaning_up_the_kitchen_only', 'cleaning_windows', 'polishing_furniture', 'polishing_silver', 'preparing_salad', 'vacuuming_floors', 'washing_cars_or_other_vehicles', 'washing_floor', 'waxing_cars_or_other_vehicles']\n",
      "frozen: ['preserving_food', 'thawing_frozen_food']\n",
      "toggled_on: ['installing_a_fax_machine', 'installing_a_modem', 'installing_a_printer', 'installing_a_scanner', 'installing_alarms', 'making_tea']\n"
     ]
    }
   ],
   "source": [
    "predicate_activities = {predicate: [] for predicate in all_predicates}\n",
    "for activity, predicates in predicates_for_activity.items():\n",
    "    for predicate in predicates['known']:\n",
    "        predicate_activities[predicate].append(activity)\n",
    "    for predicate in predicates['unknown']:\n",
    "        predicate_activities[predicate].append(activity)\n",
    "        \n",
    "for predicate, acts in predicate_activities.items():\n",
    "    print(f\"{predicate}: {acts}\")"
   ]
  },
  {
   "cell_type": "code",
   "execution_count": 14,
   "metadata": {},
   "outputs": [],
   "source": [
    "from bddl.config import get_definition_filename"
   ]
  },
  {
   "cell_type": "code",
   "execution_count": 15,
   "metadata": {},
   "outputs": [
    {
     "name": "stdout",
     "output_type": "stream",
     "text": [
      "chopping_vegetables\n"
     ]
    }
   ],
   "source": [
    "test_activity = activities[5]\n",
    "print(test_activity)"
   ]
  },
  {
   "cell_type": "code",
   "execution_count": null,
   "metadata": {},
   "outputs": [],
   "source": []
  }
 ],
 "metadata": {
  "kernelspec": {
   "display_name": "Python 3 (ipykernel)",
   "language": "python",
   "name": "python3"
  },
  "language_info": {
   "codemirror_mode": {
    "name": "ipython",
    "version": 3
   },
   "file_extension": ".py",
   "mimetype": "text/x-python",
   "name": "python",
   "nbconvert_exporter": "python",
   "pygments_lexer": "ipython3",
   "version": "3.8.13"
  }
 },
 "nbformat": 4,
 "nbformat_minor": 4
}
