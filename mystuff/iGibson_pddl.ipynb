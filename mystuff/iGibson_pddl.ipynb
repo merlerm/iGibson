{
 "cells": [
  {
   "cell_type": "markdown",
   "metadata": {},
   "source": [
    "### Interface planner with sim_env"
   ]
  },
  {
   "cell_type": "code",
   "execution_count": null,
   "metadata": {},
   "outputs": [],
   "source": [
    "%load_ext autoreload\n",
    "%autoreload 2"
   ]
  },
  {
   "cell_type": "code",
   "execution_count": null,
   "metadata": {},
   "outputs": [],
   "source": [
    "import os\n",
    "import numpy as np\n",
    "\n",
    "from unified_planning.shortcuts import *\n",
    "from unified_planning.io import PDDLReader\n",
    "\n",
    "from PIL import Image\n",
    "\n",
    "from igibson.action_primitives.fetch_robot_semantic_actions_env import FetchRobotSemanticActionEnv\n",
    "from igibson.custom_utils import get_env_config, print_properties\n",
    "import igibson.render_utils as render_utils\n",
    "\n",
    "import warnings\n",
    "warnings.filterwarnings(\"ignore\")"
   ]
  },
  {
   "cell_type": "code",
   "execution_count": null,
   "metadata": {},
   "outputs": [],
   "source": [
    "def print_symbolic_state(state):\n",
    "    print(\"-\"*76)\n",
    "    print(\"Symbolic state: \\n\")\n",
    "    for k in state:\n",
    "        true_states = {}\n",
    "        for key in state[k].keys():\n",
    "            val = state[k][key] # bool\n",
    "            if val: \n",
    "                true_states[key] = val\n",
    "                \n",
    "        print(k, true_states)\n",
    "    print(\"-\"*76)\n",
    "\n",
    "def execute_plan(sim_env, plan):\n",
    "    image, symbolic_state = sim_env.get_state_and_image()\n",
    "\n",
    "    image.show()\n",
    "    print_symbolic_state(symbolic_state)\n",
    "    \n",
    "    for action in plan:\n",
    "        try:\n",
    "            success, image, symbolic_state = sim_env.apply_action(action)\n",
    "            print(f'Action {action} executed. Success: {success}')\n",
    "\n",
    "            image.show()\n",
    "            print_symbolic_state(symbolic_state)\n",
    "            \n",
    "            legal = True\n",
    "            \n",
    "        except (ValueError, AssertionError) as e:\n",
    "            print(f\"Action {action} failed: {e}\")\n",
    "            success = False\n",
    "            legal = False\n",
    "\n",
    "def translate_str_to_dict(action):\n",
    "    action_name, action_args = action.split('(')\n",
    "\n",
    "    # Remove trailing ')'\n",
    "    action_args = action_args.split(')')[0] \n",
    "    \n",
    "    if ',' in action_args:\n",
    "        # Multiple arguments: split by comma, remove extra white spaces\n",
    "        action_args = [s.strip() for s in action_args.split(',')]\n",
    "    else:\n",
    "        # Single arg\n",
    "        action_args = [action_args]\n",
    "\n",
    "    return {'action':action_name, 'params':action_args}"
   ]
  },
  {
   "cell_type": "code",
   "execution_count": null,
   "metadata": {},
   "outputs": [],
   "source": [
    "# Disable print of credits\n",
    "up.shortcuts.get_env().credits_stream = None \n",
    "\n",
    "# PDDL configs\n",
    "pddl_dir = 'pddl' \n",
    "domain_file = os.path.join(pddl_dir,'domain.pddl')\n",
    "pddl_problem_file = 'pddl/easy/cleaning_out_drawers_nextto.pddl'\n",
    "reader = PDDLReader()\n",
    "\n",
    "# Env config\n",
    "task = \"cleaning_out_drawers\"\n",
    "scene_id =  \"Benevolence_1_int\"\n",
    "\n",
    "# Init env\n",
    "sim_env = FetchRobotSemanticActionEnv(task, scene_id, verbose=False)"
   ]
  },
  {
   "cell_type": "code",
   "execution_count": null,
   "metadata": {},
   "outputs": [],
   "source": [
    "# Parse problem and domain\n",
    "problem = reader.parse_problem(domain_file, pddl_problem_file)\n",
    "    \n",
    "# Make a plan for the problem\n",
    "with OneshotPlanner(problem_kind=problem.kind) as planner:\n",
    "    result = planner.solve(problem)\n",
    "\n",
    "# Check if planner found a plan\n",
    "if result.status == up.engines.PlanGenerationResultStatus.SOLVED_SATISFICING:\n",
    "    print(\"Plan found.\")\n",
    "    # Prepare plan in the right format\n",
    "    plan = [translate_str_to_dict(str(action)) for action in result.plan.actions]\n",
    "    for action in plan:\n",
    "        print(action)\n",
    "else:\n",
    "    print(\"No plan found.\")\n",
    "    plan = []\n",
    "\n",
    "execute_plan(sim_env, plan)"
   ]
  },
  {
   "cell_type": "markdown",
   "metadata": {},
   "source": [
    "### Run on all problems of a split"
   ]
  },
  {
   "cell_type": "code",
   "execution_count": null,
   "metadata": {},
   "outputs": [],
   "source": [
    "import os"
   ]
  },
  {
   "cell_type": "code",
   "execution_count": null,
   "metadata": {},
   "outputs": [],
   "source": [
    "from unified_planning.shortcuts import *\n",
    "from unified_planning.io import PDDLReader"
   ]
  },
  {
   "cell_type": "code",
   "execution_count": null,
   "metadata": {
    "scrolled": true
   },
   "outputs": [],
   "source": [
    "reader = PDDLReader()\n",
    "\n",
    "pddl_dir = 'pddl' \n",
    "split_dir = os.path.join(pddl_dir, 'easy')\n",
    "domain_file = os.path.join(pddl_dir,'domain.pddl')\n",
    "test_activity_files = [file for file in os.listdir(split_dir) if file!='.ipynb_checkpoints']\n",
    "\n",
    "for test_activity_file in test_activity_files:\n",
    "    test_activity_file = os.path.join(split_dir, test_activity_file)\n",
    "    print(f\"\\nLooking for plan for {test_activity_file}\")\n",
    "    problem = reader.parse_problem(domain_file, test_activity_file)\n",
    "    \n",
    "    # Make a plan for the problem\n",
    "    with OneshotPlanner(problem_kind=problem.kind) as planner:\n",
    "        result = planner.solve(problem)\n",
    "        \n",
    "        # print(result.log_messages)\n",
    "        \n",
    "    if result.status == up.engines.PlanGenerationResultStatus.SOLVED_SATISFICING:\n",
    "        print(\"Plan found.\")\n",
    "        for action in result.plan.actions:\n",
    "            print(action)\n",
    "    else:\n",
    "        print(\"No plan found.\")"
   ]
  },
  {
   "cell_type": "markdown",
   "metadata": {
    "jp-MarkdownHeadingCollapsed": true
   },
   "source": [
    "### Exploration of bddl"
   ]
  },
  {
   "cell_type": "code",
   "execution_count": null,
   "metadata": {},
   "outputs": [],
   "source": [
    "import os\n",
    "import bddl"
   ]
  },
  {
   "cell_type": "code",
   "execution_count": null,
   "metadata": {},
   "outputs": [],
   "source": [
    "activities = sorted(\n",
    "        [\n",
    "            item\n",
    "            for item in os.listdir(os.path.join(os.path.dirname(bddl.__file__), \"activity_definitions\"))\n",
    "            if item != \"domain_igibson.bddl\"\n",
    "        ]\n",
    "    )\n",
    "\n",
    "assert len(activities)==100, f\"Only {len(activities)} activities found.\""
   ]
  },
  {
   "cell_type": "code",
   "execution_count": null,
   "metadata": {},
   "outputs": [],
   "source": [
    "os.path.join(os.path.dirname(bddl.__file__), \"activity_definitions\")"
   ]
  },
  {
   "cell_type": "code",
   "execution_count": null,
   "metadata": {},
   "outputs": [],
   "source": [
    "activities"
   ]
  },
  {
   "cell_type": "code",
   "execution_count": null,
   "metadata": {},
   "outputs": [],
   "source": [
    "domain_file = os.path.join(os.path.dirname(bddl.__file__), \"activity_definitions\", \"domain_igibson.bddl\")\n",
    "with open(domain_file, \"r\") as f:\n",
    "    domain = f.read()\n",
    "    \n",
    "print(domain)"
   ]
  },
  {
   "cell_type": "code",
   "execution_count": null,
   "metadata": {},
   "outputs": [],
   "source": [
    "predicates_start = domain.find(\":predicates\")\n",
    "all_predicates = []\n",
    "for i, line in enumerate(domain[predicates_start:].split(\"\\n\")[1:]):\n",
    "    if line.strip() == \")\":\n",
    "        break\n",
    "    predicate = line.strip().split()[0][1:]\n",
    "    print(f\"Predicate {i+1}: {predicate}\")\n",
    "    all_predicates.append(predicate)\n",
    "    \n",
    "print(f\"Total predicates: {len(all_predicates)}\")"
   ]
  },
  {
   "cell_type": "code",
   "execution_count": null,
   "metadata": {},
   "outputs": [],
   "source": [
    "from bddl.parsing import parse_problem, parse_predicates"
   ]
  },
  {
   "cell_type": "code",
   "execution_count": null,
   "metadata": {},
   "outputs": [],
   "source": [
    "def parse_predicates_custom(state, all_predicates, found_predicates=None):\n",
    "    if found_predicates is None:\n",
    "        found_predicates = {'known': set(), 'unknown': set()}\n",
    "        \n",
    "    for item in state:\n",
    "        # print(item)\n",
    "        if item in ['and', 'or', 'not', 'forall', 'exists', 'forpairs', 'forn']:\n",
    "            continue\n",
    "        if type(item) == list and len(item) == 1:\n",
    "            continue\n",
    "        if item[0].startswith(\"?\"): # Ignore variables (type)\n",
    "            continue\n",
    "        if type(item[0]) == str and type(item[1]) == str:\n",
    "            if item[0] in all_predicates:\n",
    "                found_predicates['known'].add(item[0])\n",
    "            else:\n",
    "                found_predicates['unknown'].add(item[0])\n",
    "        else:\n",
    "            parse_predicates_custom(item, all_predicates, found_predicates)\n",
    "            \n",
    "    return found_predicates"
   ]
  },
  {
   "cell_type": "code",
   "execution_count": null,
   "metadata": {},
   "outputs": [],
   "source": [
    "activity = activities[5]\n",
    "print(activity)\n",
    "\n",
    "problem, objects, initial_state, goal_state = parse_problem(activity, \"0\", domain_name=\"igibson\")\n",
    "parse_predicates_custom(goal_state, all_predicates)"
   ]
  },
  {
   "cell_type": "code",
   "execution_count": null,
   "metadata": {},
   "outputs": [],
   "source": [
    "predicates_for_activity = {}\n",
    "\n",
    "for activity in activities:\n",
    "    problem, objects, initial_state, goal_state = parse_problem(activity, \"0\", domain_name=\"igibson\")\n",
    "    found_predicates = parse_predicates_custom(initial_state, all_predicates)\n",
    "    found_predicates_for_goal = parse_predicates_custom(goal_state, all_predicates)\n",
    "    found_predicates['known'] = found_predicates['known'].union(found_predicates_for_goal['known'])\n",
    "    found_predicates['unknown'] = found_predicates['unknown'].union(found_predicates_for_goal['unknown'])\n",
    "    predicates_for_activity[activity] = found_predicates"
   ]
  },
  {
   "cell_type": "code",
   "execution_count": null,
   "metadata": {},
   "outputs": [],
   "source": [
    "# Print a global list of predicates (known and unknown), count how many activities they appear in\n",
    "\n",
    "all_predicates = set()\n",
    "all_predicates_known = set()\n",
    "\n",
    "\n",
    "for activity, predicates in predicates_for_activity.items():\n",
    "    all_predicates.update(predicates['known'])\n",
    "    all_predicates_known.update(predicates['known'])\n",
    "    all_predicates.update(predicates['unknown'])\n",
    "    \n",
    "predicate_count = {predicate: 0 for predicate in all_predicates}\n",
    "for activity, predicates in predicates_for_activity.items():\n",
    "    for predicate in predicates['known']:\n",
    "        predicate_count[predicate] += 1\n",
    "    for predicate in predicates['unknown']:\n",
    "        predicate_count[predicate] += 1\n",
    "        \n",
    "predicate_count = {k: v for k, v in sorted(predicate_count.items(), key=lambda item: item[1], reverse=True)}\n",
    "\n",
    "for predicate, count in predicate_count.items():\n",
    "    print(f\"{predicate} ({'known' if predicate in all_predicates_known else 'unknown'}): {count}\")"
   ]
  },
  {
   "cell_type": "code",
   "execution_count": null,
   "metadata": {},
   "outputs": [],
   "source": [
    "predicate_activities = {predicate: [] for predicate in all_predicates}\n",
    "for activity, predicates in predicates_for_activity.items():\n",
    "    for predicate in predicates['known']:\n",
    "        predicate_activities[predicate].append(activity)\n",
    "    for predicate in predicates['unknown']:\n",
    "        predicate_activities[predicate].append(activity)\n",
    "        \n",
    "for predicate, acts in predicate_activities.items():\n",
    "    print(f\"{predicate}: {acts}\")"
   ]
  },
  {
   "cell_type": "code",
   "execution_count": null,
   "metadata": {},
   "outputs": [],
   "source": [
    "from bddl.config import get_definition_filename"
   ]
  },
  {
   "cell_type": "code",
   "execution_count": null,
   "metadata": {},
   "outputs": [],
   "source": [
    "test_activity = activities[5]\n",
    "print(test_activity)"
   ]
  },
  {
   "cell_type": "code",
   "execution_count": null,
   "metadata": {},
   "outputs": [],
   "source": []
  }
 ],
 "metadata": {
  "kernelspec": {
   "display_name": "Python 3 (ipykernel)",
   "language": "python",
   "name": "python3"
  },
  "language_info": {
   "codemirror_mode": {
    "name": "ipython",
    "version": 3
   },
   "file_extension": ".py",
   "mimetype": "text/x-python",
   "name": "python",
   "nbconvert_exporter": "python",
   "pygments_lexer": "ipython3",
   "version": "3.8.13"
  }
 },
 "nbformat": 4,
 "nbformat_minor": 4
}
