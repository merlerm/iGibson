{
 "cells": [
  {
   "cell_type": "code",
   "execution_count": 23,
   "id": "65468f7e-20d8-498f-b28f-65e312af77e8",
   "metadata": {},
   "outputs": [],
   "source": [
    "# Extract from https://github.com/StanfordVL/behavior/blob/main/behavior/benchmark/behavior_benchmark.py\n",
    "import os\n",
    "import bddl\n",
    "import json\n",
    "import behavior\n",
    "import pyquaternion  \n",
    "import numpy as np\n",
    "from PIL import Image\n",
    "from igibson.utils.utils import parse_config\n",
    "from igibson.envs.igibson_env import iGibsonEnv\n",
    "from igibson import object_states\n",
    "\n",
    "from utils import get_env_config, render_robot_pov"
   ]
  },
  {
   "cell_type": "code",
   "execution_count": 24,
   "id": "0c26f26d-e891-4f6e-b4e2-68cfffb7ac6a",
   "metadata": {},
   "outputs": [
    {
     "name": "stdout",
     "output_type": "stream",
     "text": [
      "The autoreload extension is already loaded. To reload it, use:\n",
      "  %reload_ext autoreload\n"
     ]
    }
   ],
   "source": [
    "%load_ext autoreload\n",
    "%autoreload 2"
   ]
  },
  {
   "cell_type": "code",
   "execution_count": 25,
   "id": "01b1fde4-7ed7-44fe-af19-1532739cf197",
   "metadata": {},
   "outputs": [
    {
     "name": "stdout",
     "output_type": "stream",
     "text": [
      "\t\t\t\t\t\t\t\t\t\t\t\t\t\t\t\t\t\t\t\t\t\t\t\t\t\t\t\t\t\t\t\t\t\t\t\t\t\t\t\t\t\t\t\t\t\t\t\t\t\t\t\t\t\t\t\t\t\t\t\t\t\t\t\t\t\t\t\t\t\tb3Warning[examples/Importers/ImportURDFDemo/BulletUrdfImporter.cpp,126]:\n",
      "No inertial data for link, using mass=1, localinertiadiagonal = 1,1,1, identity local inertial frameb3Warning[examples/Importers/ImportURDFDemo/BulletUrdfImporter.cpp,126]:\n",
      "left_hand_shoulderb3Warning[examples/Importers/ImportURDFDemo/BulletUrdfImporter.cpp,126]:\n",
      "No inertial data for link, using mass=1, localinertiadiagonal = 1,1,1, identity local inertial frameb3Warning[examples/Importers/ImportURDFDemo/BulletUrdfImporter.cpp,126]:\n",
      "right_hand_shoulderb3Warning[examples/Importers/ImportURDFDemo/BulletUrdfImporter.cpp,126]:\n",
      "No inertial data for link, using mass=1, localinertiadiagonal = 1,1,1, identity local inertial frameb3Warning[examples/Importers/ImportURDFDemo/BulletUrdfImporter.cpp,126]:\n",
      "neckb3Warning[examples/Importers/ImportURDFDemo/BulletUrdfImporter.cpp,126]:\n",
      "No inertial data for link, using mass=1, localinertiadiagonal = 1,1,1, identity local inertial frameb3Warning[examples/Importers/ImportURDFDemo/BulletUrdfImporter.cpp,126]:\n",
      "eyes"
     ]
    },
    {
     "name": "stderr",
     "output_type": "stream",
     "text": [
      "/home/nicola/miniconda3/envs/igibson/lib/python3.8/site-packages/gym/spaces/box.py:127: UserWarning: \u001b[33mWARN: Box bound precision lowered by casting to float32\u001b[0m\n",
      "  logger.warn(f\"Box bound precision lowered by casting to {self.dtype}\")\n"
     ]
    }
   ],
   "source": [
    "scene_id =  \"Benevolence_1_int\"\n",
    "task = \"cleaning_out_drawers\"\n",
    "env_config = get_env_config()\n",
    "env_config[\"scene_id\"] = scene_id\n",
    "env_config[\"task\"] = task\n",
    "env_config[\"task_id\"] = 0\n",
    "env_config[\"instance_id\"] = 0\n",
    "\n",
    "# Keep this in memory as it's removed from the config when we init iGibson - so we need to reload it\n",
    "robot_name = env_config[\"robot\"][\"name\"]\n",
    "\n",
    "env = iGibsonEnv(\n",
    "        config_file=env_config,\n",
    "        mode=\"headless\",\n",
    "        action_timestep=1.0 / 30.0,\n",
    "        physics_timestep=1.0 / 120.0,\n",
    "    )\n",
    "\n",
    "render_robot_pov(env, env_config, step='initial', show=True, save=False)"
   ]
  },
  {
   "cell_type": "code",
   "execution_count": 26,
   "id": "434dae13-ac14-4ac6-86c8-a803c037785f",
   "metadata": {},
   "outputs": [],
   "source": [
    "def print_properties(obj):\n",
    "    \"\"\"\n",
    "    Requires from igibson import object_states\n",
    "    \"\"\"\n",
    "    logic_state = {}\n",
    "    logic_state['InFOVOfRobot'] = obj.states[object_states.InFOVOfRobot].get_value()\n",
    "    logic_state['InSameRoomAsRobot'] = obj.states[object_states.InSameRoomAsRobot].get_value()\n",
    "    logic_state['InReachOfRobot'] = obj.states[object_states.InReachOfRobot].get_value()\n",
    "\n",
    "    print(logic_state)"
   ]
  },
  {
   "cell_type": "code",
   "execution_count": 27,
   "id": "9c06a235-0648-4adc-9a09-1ccf7d4b98d4",
   "metadata": {},
   "outputs": [
    {
     "name": "stdout",
     "output_type": "stream",
     "text": [
      "object_names_list:  ['bowl.n.01_1', 'bowl.n.01_2', 'cabinet.n.01_1', 'cabinet.n.01_2', 'spoon.n.01_1', 'spoon.n.01_2', 'piece_of_cloth.n.01_1', 'sink.n.01_1', 'floor.n.01_1', 'agent.n.01_1']\n",
      "filtered_object_names_list:  ['bowl.n.01_1', 'bowl.n.01_2', 'cabinet.n.01_1', 'cabinet.n.01_2', 'spoon.n.01_1', 'spoon.n.01_2', 'piece_of_cloth.n.01_1', 'sink.n.01_1']\n",
      "\n",
      "Properties of bowl.n.01_1\n",
      "{'InFOVOfRobot': False, 'InSameRoomAsRobot': False, 'InReachOfRobot': True}\n",
      "\n",
      "Properties of bowl.n.01_2\n",
      "{'InFOVOfRobot': False, 'InSameRoomAsRobot': False, 'InReachOfRobot': True}\n",
      "\n",
      "Properties of cabinet.n.01_1\n",
      "{'InFOVOfRobot': False, 'InSameRoomAsRobot': True, 'InReachOfRobot': True}\n",
      "\n",
      "Properties of cabinet.n.01_2\n",
      "{'InFOVOfRobot': False, 'InSameRoomAsRobot': True, 'InReachOfRobot': True}\n",
      "\n",
      "Properties of spoon.n.01_1\n",
      "{'InFOVOfRobot': False, 'InSameRoomAsRobot': False, 'InReachOfRobot': True}\n",
      "\n",
      "Properties of spoon.n.01_2\n",
      "{'InFOVOfRobot': False, 'InSameRoomAsRobot': False, 'InReachOfRobot': True}\n",
      "\n",
      "Properties of piece_of_cloth.n.01_1\n",
      "{'InFOVOfRobot': False, 'InSameRoomAsRobot': False, 'InReachOfRobot': True}\n",
      "\n",
      "Properties of sink.n.01_1\n",
      "{'InFOVOfRobot': False, 'InSameRoomAsRobot': True, 'InReachOfRobot': True}\n"
     ]
    }
   ],
   "source": [
    "object_names_list = list(env.task.object_scope.keys())\n",
    "print(\"object_names_list: \", object_names_list)\n",
    "\n",
    "filtered_object_names_list = [name for name in object_names_list \\\n",
    "                              if name.split('.')[0] not in ['agent', 'floor']]\n",
    "print(\"filtered_object_names_list: \", filtered_object_names_list)\n",
    "\n",
    "for object_name in filtered_object_names_list:\n",
    "    print(f\"\\nProperties of {object_name}\")\n",
    "    obj = env.task.object_scope[object_name]\n",
    "    print_properties(obj)"
   ]
  },
  {
   "cell_type": "code",
   "execution_count": null,
   "id": "c00cc0eb-c8ca-4450-a066-d4f79b20b7c2",
   "metadata": {},
   "outputs": [],
   "source": []
  }
 ],
 "metadata": {
  "kernelspec": {
   "display_name": "Python 3 (ipykernel)",
   "language": "python",
   "name": "python3"
  },
  "language_info": {
   "codemirror_mode": {
    "name": "ipython",
    "version": 3
   },
   "file_extension": ".py",
   "mimetype": "text/x-python",
   "name": "python",
   "nbconvert_exporter": "python",
   "pygments_lexer": "ipython3",
   "version": "3.8.20"
  }
 },
 "nbformat": 4,
 "nbformat_minor": 5
}
